{
 "cells": [
  {
   "cell_type": "code",
   "execution_count": 3,
   "metadata": {},
   "outputs": [],
   "source": [
    "#Start by importing the required packages"
   ]
  },
  {
   "cell_type": "code",
   "execution_count": 4,
   "metadata": {},
   "outputs": [],
   "source": [
    "#Importing the required libraries\n",
    "%matplotlib inline\n",
    "import pandas as pd\n",
    "import numpy as np\n",
    "import matplotlib.pyplot as plt\n",
    "from sklearn.ensemble import RandomForestRegressor\n",
    "from sklearn.metrics import mean_absolute_error\n",
    "import xgboost as xgb"
   ]
  },
  {
   "cell_type": "code",
   "execution_count": 5,
   "metadata": {},
   "outputs": [
    {
     "data": {
      "text/html": [
       "<div>\n",
       "<style scoped>\n",
       "    .dataframe tbody tr th:only-of-type {\n",
       "        vertical-align: middle;\n",
       "    }\n",
       "\n",
       "    .dataframe tbody tr th {\n",
       "        vertical-align: top;\n",
       "    }\n",
       "\n",
       "    .dataframe thead th {\n",
       "        text-align: right;\n",
       "    }\n",
       "</style>\n",
       "<table border=\"1\" class=\"dataframe\">\n",
       "  <thead>\n",
       "    <tr style=\"text-align: right;\">\n",
       "      <th></th>\n",
       "      <th>ride_id</th>\n",
       "      <th>seat_number</th>\n",
       "      <th>payment_method</th>\n",
       "      <th>payment_receipt</th>\n",
       "      <th>travel_date</th>\n",
       "      <th>travel_time</th>\n",
       "      <th>travel_from</th>\n",
       "      <th>travel_to</th>\n",
       "      <th>car_type</th>\n",
       "      <th>max_capacity</th>\n",
       "    </tr>\n",
       "  </thead>\n",
       "  <tbody>\n",
       "    <tr>\n",
       "      <th>0</th>\n",
       "      <td>1442</td>\n",
       "      <td>15A</td>\n",
       "      <td>Mpesa</td>\n",
       "      <td>UZUEHCBUSO</td>\n",
       "      <td>17-10-17</td>\n",
       "      <td>7:15</td>\n",
       "      <td>Migori</td>\n",
       "      <td>Nairobi</td>\n",
       "      <td>Bus</td>\n",
       "      <td>49</td>\n",
       "    </tr>\n",
       "    <tr>\n",
       "      <th>1</th>\n",
       "      <td>5437</td>\n",
       "      <td>14A</td>\n",
       "      <td>Mpesa</td>\n",
       "      <td>TIHLBUSGTE</td>\n",
       "      <td>19-11-17</td>\n",
       "      <td>7:12</td>\n",
       "      <td>Migori</td>\n",
       "      <td>Nairobi</td>\n",
       "      <td>Bus</td>\n",
       "      <td>49</td>\n",
       "    </tr>\n",
       "    <tr>\n",
       "      <th>2</th>\n",
       "      <td>5710</td>\n",
       "      <td>8B</td>\n",
       "      <td>Mpesa</td>\n",
       "      <td>EQX8Q5G19O</td>\n",
       "      <td>26-11-17</td>\n",
       "      <td>7:05</td>\n",
       "      <td>Keroka</td>\n",
       "      <td>Nairobi</td>\n",
       "      <td>Bus</td>\n",
       "      <td>49</td>\n",
       "    </tr>\n",
       "    <tr>\n",
       "      <th>3</th>\n",
       "      <td>5777</td>\n",
       "      <td>19A</td>\n",
       "      <td>Mpesa</td>\n",
       "      <td>SGP18CL0ME</td>\n",
       "      <td>27-11-17</td>\n",
       "      <td>7:10</td>\n",
       "      <td>Homa Bay</td>\n",
       "      <td>Nairobi</td>\n",
       "      <td>Bus</td>\n",
       "      <td>49</td>\n",
       "    </tr>\n",
       "    <tr>\n",
       "      <th>4</th>\n",
       "      <td>5778</td>\n",
       "      <td>11A</td>\n",
       "      <td>Mpesa</td>\n",
       "      <td>BM97HFRGL9</td>\n",
       "      <td>27-11-17</td>\n",
       "      <td>7:12</td>\n",
       "      <td>Migori</td>\n",
       "      <td>Nairobi</td>\n",
       "      <td>Bus</td>\n",
       "      <td>49</td>\n",
       "    </tr>\n",
       "  </tbody>\n",
       "</table>\n",
       "</div>"
      ],
      "text/plain": [
       "   ride_id seat_number payment_method payment_receipt travel_date travel_time  \\\n",
       "0     1442         15A          Mpesa      UZUEHCBUSO    17-10-17        7:15   \n",
       "1     5437         14A          Mpesa      TIHLBUSGTE    19-11-17        7:12   \n",
       "2     5710          8B          Mpesa      EQX8Q5G19O    26-11-17        7:05   \n",
       "3     5777         19A          Mpesa      SGP18CL0ME    27-11-17        7:10   \n",
       "4     5778         11A          Mpesa      BM97HFRGL9    27-11-17        7:12   \n",
       "\n",
       "  travel_from travel_to car_type  max_capacity  \n",
       "0      Migori   Nairobi      Bus            49  \n",
       "1      Migori   Nairobi      Bus            49  \n",
       "2      Keroka   Nairobi      Bus            49  \n",
       "3    Homa Bay   Nairobi      Bus            49  \n",
       "4      Migori   Nairobi      Bus            49  "
      ]
     },
     "execution_count": 5,
     "metadata": {},
     "output_type": "execute_result"
    }
   ],
   "source": [
    "#loading the data\n",
    "df_tickets = pd.read_csv('/home/stush/Git/traffic_jam_Nairobi/train_revised.csv', low_memory=False)\n",
    "df_tickets.head()"
   ]
  },
  {
   "cell_type": "code",
   "execution_count": 6,
   "metadata": {},
   "outputs": [
    {
     "data": {
      "text/html": [
       "<div>\n",
       "<style scoped>\n",
       "    .dataframe tbody tr th:only-of-type {\n",
       "        vertical-align: middle;\n",
       "    }\n",
       "\n",
       "    .dataframe tbody tr th {\n",
       "        vertical-align: top;\n",
       "    }\n",
       "\n",
       "    .dataframe thead th {\n",
       "        text-align: right;\n",
       "    }\n",
       "</style>\n",
       "<table border=\"1\" class=\"dataframe\">\n",
       "  <thead>\n",
       "    <tr style=\"text-align: right;\">\n",
       "      <th></th>\n",
       "      <th>ride_id</th>\n",
       "      <th>num_tickets</th>\n",
       "    </tr>\n",
       "  </thead>\n",
       "  <tbody>\n",
       "    <tr>\n",
       "      <th>0</th>\n",
       "      <td>1442</td>\n",
       "      <td>1</td>\n",
       "    </tr>\n",
       "    <tr>\n",
       "      <th>1</th>\n",
       "      <td>5437</td>\n",
       "      <td>1</td>\n",
       "    </tr>\n",
       "    <tr>\n",
       "      <th>2</th>\n",
       "      <td>5710</td>\n",
       "      <td>1</td>\n",
       "    </tr>\n",
       "    <tr>\n",
       "      <th>3</th>\n",
       "      <td>5777</td>\n",
       "      <td>5</td>\n",
       "    </tr>\n",
       "    <tr>\n",
       "      <th>4</th>\n",
       "      <td>5778</td>\n",
       "      <td>31</td>\n",
       "    </tr>\n",
       "  </tbody>\n",
       "</table>\n",
       "</div>"
      ],
      "text/plain": [
       "   ride_id  num_tickets\n",
       "0     1442            1\n",
       "1     5437            1\n",
       "2     5710            1\n",
       "3     5777            5\n",
       "4     5778           31"
      ]
     },
     "execution_count": 6,
     "metadata": {},
     "output_type": "execute_result"
    }
   ],
   "source": [
    "group_by_ride_id = df_tickets.groupby(['ride_id']).size().to_frame(name='num_tickets').reset_index()\n",
    "group_by_ride_id.head()"
   ]
  },
  {
   "cell_type": "code",
   "execution_count": 7,
   "metadata": {},
   "outputs": [
    {
     "data": {
      "text/html": [
       "<div>\n",
       "<style scoped>\n",
       "    .dataframe tbody tr th:only-of-type {\n",
       "        vertical-align: middle;\n",
       "    }\n",
       "\n",
       "    .dataframe tbody tr th {\n",
       "        vertical-align: top;\n",
       "    }\n",
       "\n",
       "    .dataframe thead th {\n",
       "        text-align: right;\n",
       "    }\n",
       "</style>\n",
       "<table border=\"1\" class=\"dataframe\">\n",
       "  <thead>\n",
       "    <tr style=\"text-align: right;\">\n",
       "      <th></th>\n",
       "      <th>ride_id</th>\n",
       "      <th>travel_date</th>\n",
       "      <th>travel_time</th>\n",
       "      <th>travel_from</th>\n",
       "      <th>car_type</th>\n",
       "      <th>max_capacity</th>\n",
       "    </tr>\n",
       "  </thead>\n",
       "  <tbody>\n",
       "    <tr>\n",
       "      <th>0</th>\n",
       "      <td>1442</td>\n",
       "      <td>17-10-17</td>\n",
       "      <td>7:15</td>\n",
       "      <td>Migori</td>\n",
       "      <td>Bus</td>\n",
       "      <td>49</td>\n",
       "    </tr>\n",
       "    <tr>\n",
       "      <th>1</th>\n",
       "      <td>5437</td>\n",
       "      <td>19-11-17</td>\n",
       "      <td>7:12</td>\n",
       "      <td>Migori</td>\n",
       "      <td>Bus</td>\n",
       "      <td>49</td>\n",
       "    </tr>\n",
       "    <tr>\n",
       "      <th>2</th>\n",
       "      <td>5710</td>\n",
       "      <td>26-11-17</td>\n",
       "      <td>7:05</td>\n",
       "      <td>Keroka</td>\n",
       "      <td>Bus</td>\n",
       "      <td>49</td>\n",
       "    </tr>\n",
       "    <tr>\n",
       "      <th>3</th>\n",
       "      <td>5777</td>\n",
       "      <td>27-11-17</td>\n",
       "      <td>7:10</td>\n",
       "      <td>Homa Bay</td>\n",
       "      <td>Bus</td>\n",
       "      <td>49</td>\n",
       "    </tr>\n",
       "    <tr>\n",
       "      <th>4</th>\n",
       "      <td>5778</td>\n",
       "      <td>27-11-17</td>\n",
       "      <td>7:12</td>\n",
       "      <td>Migori</td>\n",
       "      <td>Bus</td>\n",
       "      <td>49</td>\n",
       "    </tr>\n",
       "  </tbody>\n",
       "</table>\n",
       "</div>"
      ],
      "text/plain": [
       "   ride_id travel_date travel_time travel_from car_type  max_capacity\n",
       "0     1442    17-10-17        7:15      Migori      Bus            49\n",
       "1     5437    19-11-17        7:12      Migori      Bus            49\n",
       "2     5710    26-11-17        7:05      Keroka      Bus            49\n",
       "3     5777    27-11-17        7:10    Homa Bay      Bus            49\n",
       "4     5778    27-11-17        7:12      Migori      Bus            49"
      ]
     },
     "execution_count": 7,
     "metadata": {},
     "output_type": "execute_result"
    }
   ],
   "source": [
    "df_new_tickets = df_tickets.drop(['seat_number','payment_method','payment_receipt','travel_to'],axis = 1)\n",
    "df_new_tickets.head()"
   ]
  },
  {
   "cell_type": "code",
   "execution_count": 8,
   "metadata": {},
   "outputs": [],
   "source": [
    "df_new_tickets.drop_duplicates(inplace=True)"
   ]
  },
  {
   "cell_type": "code",
   "execution_count": 9,
   "metadata": {},
   "outputs": [
    {
     "data": {
      "text/html": [
       "<div>\n",
       "<style scoped>\n",
       "    .dataframe tbody tr th:only-of-type {\n",
       "        vertical-align: middle;\n",
       "    }\n",
       "\n",
       "    .dataframe tbody tr th {\n",
       "        vertical-align: top;\n",
       "    }\n",
       "\n",
       "    .dataframe thead th {\n",
       "        text-align: right;\n",
       "    }\n",
       "</style>\n",
       "<table border=\"1\" class=\"dataframe\">\n",
       "  <thead>\n",
       "    <tr style=\"text-align: right;\">\n",
       "      <th></th>\n",
       "      <th>ride_id</th>\n",
       "      <th>num_tickets</th>\n",
       "      <th>travel_date</th>\n",
       "      <th>travel_time</th>\n",
       "      <th>travel_from</th>\n",
       "      <th>car_type</th>\n",
       "      <th>max_capacity</th>\n",
       "    </tr>\n",
       "  </thead>\n",
       "  <tbody>\n",
       "    <tr>\n",
       "      <th>0</th>\n",
       "      <td>1442</td>\n",
       "      <td>1</td>\n",
       "      <td>17-10-17</td>\n",
       "      <td>7:15</td>\n",
       "      <td>Migori</td>\n",
       "      <td>Bus</td>\n",
       "      <td>49</td>\n",
       "    </tr>\n",
       "    <tr>\n",
       "      <th>1</th>\n",
       "      <td>5437</td>\n",
       "      <td>1</td>\n",
       "      <td>19-11-17</td>\n",
       "      <td>7:12</td>\n",
       "      <td>Migori</td>\n",
       "      <td>Bus</td>\n",
       "      <td>49</td>\n",
       "    </tr>\n",
       "    <tr>\n",
       "      <th>2</th>\n",
       "      <td>5710</td>\n",
       "      <td>1</td>\n",
       "      <td>26-11-17</td>\n",
       "      <td>7:05</td>\n",
       "      <td>Keroka</td>\n",
       "      <td>Bus</td>\n",
       "      <td>49</td>\n",
       "    </tr>\n",
       "    <tr>\n",
       "      <th>3</th>\n",
       "      <td>5777</td>\n",
       "      <td>5</td>\n",
       "      <td>27-11-17</td>\n",
       "      <td>7:10</td>\n",
       "      <td>Homa Bay</td>\n",
       "      <td>Bus</td>\n",
       "      <td>49</td>\n",
       "    </tr>\n",
       "    <tr>\n",
       "      <th>4</th>\n",
       "      <td>5778</td>\n",
       "      <td>31</td>\n",
       "      <td>27-11-17</td>\n",
       "      <td>7:12</td>\n",
       "      <td>Migori</td>\n",
       "      <td>Bus</td>\n",
       "      <td>49</td>\n",
       "    </tr>\n",
       "  </tbody>\n",
       "</table>\n",
       "</div>"
      ],
      "text/plain": [
       "   ride_id  num_tickets travel_date travel_time travel_from car_type  \\\n",
       "0     1442            1    17-10-17        7:15      Migori      Bus   \n",
       "1     5437            1    19-11-17        7:12      Migori      Bus   \n",
       "2     5710            1    26-11-17        7:05      Keroka      Bus   \n",
       "3     5777            5    27-11-17        7:10    Homa Bay      Bus   \n",
       "4     5778           31    27-11-17        7:12      Migori      Bus   \n",
       "\n",
       "   max_capacity  \n",
       "0            49  \n",
       "1            49  \n",
       "2            49  \n",
       "3            49  \n",
       "4            49  "
      ]
     },
     "execution_count": 9,
     "metadata": {},
     "output_type": "execute_result"
    }
   ],
   "source": [
    "df_combined = pd.merge(group_by_ride_id,df_new_tickets,on='ride_id',how = 'left')\n",
    "df_combined.head()"
   ]
  },
  {
   "cell_type": "code",
   "execution_count": 10,
   "metadata": {},
   "outputs": [],
   "source": [
    "import re\n",
    "def add_datepart(df, fldname, drop=True):\n",
    "    fld = df[fldname]\n",
    "    if not np.issubdtype(fld.dtype, np.datetime64):\n",
    "        df[fldname] = fld = pd.to_datetime(fld, infer_datetime_format=True)\n",
    "    targ_pre = re.sub('[Dd]ate$', '', fldname)\n",
    "    for n in ('Year', 'Month', 'Week', 'Day', 'Dayofweek', 'Dayofyear',\n",
    "            'Is_month_end', 'Is_month_start', 'Is_quarter_end', 'Is_quarter_start', 'Is_year_end', 'Is_year_start'):\n",
    "        df[targ_pre+n] = getattr(fld.dt,n.lower())\n",
    "    df[targ_pre+'Elapsed'] = fld.astype(np.int64) // 10**9\n",
    "    if drop: df.drop(fldname, axis=1, inplace=True)"
   ]
  },
  {
   "cell_type": "code",
   "execution_count": 11,
   "metadata": {},
   "outputs": [],
   "source": [
    "df_try = df_combined"
   ]
  },
  {
   "cell_type": "code",
   "execution_count": 12,
   "metadata": {},
   "outputs": [],
   "source": [
    "add_datepart(df_try,'travel_date',drop = True)"
   ]
  },
  {
   "cell_type": "code",
   "execution_count": 13,
   "metadata": {},
   "outputs": [
    {
     "data": {
      "text/html": [
       "<div>\n",
       "<style scoped>\n",
       "    .dataframe tbody tr th:only-of-type {\n",
       "        vertical-align: middle;\n",
       "    }\n",
       "\n",
       "    .dataframe tbody tr th {\n",
       "        vertical-align: top;\n",
       "    }\n",
       "\n",
       "    .dataframe thead th {\n",
       "        text-align: right;\n",
       "    }\n",
       "</style>\n",
       "<table border=\"1\" class=\"dataframe\">\n",
       "  <thead>\n",
       "    <tr style=\"text-align: right;\">\n",
       "      <th></th>\n",
       "      <th>ride_id</th>\n",
       "      <th>num_tickets</th>\n",
       "      <th>travel_time</th>\n",
       "      <th>travel_from</th>\n",
       "      <th>car_type</th>\n",
       "      <th>max_capacity</th>\n",
       "      <th>travel_Year</th>\n",
       "      <th>travel_Month</th>\n",
       "      <th>travel_Week</th>\n",
       "      <th>travel_Day</th>\n",
       "      <th>travel_Dayofweek</th>\n",
       "      <th>travel_Dayofyear</th>\n",
       "      <th>travel_Is_month_end</th>\n",
       "      <th>travel_Is_month_start</th>\n",
       "      <th>travel_Is_quarter_end</th>\n",
       "      <th>travel_Is_quarter_start</th>\n",
       "      <th>travel_Is_year_end</th>\n",
       "      <th>travel_Is_year_start</th>\n",
       "      <th>travel_Elapsed</th>\n",
       "    </tr>\n",
       "  </thead>\n",
       "  <tbody>\n",
       "    <tr>\n",
       "      <th>0</th>\n",
       "      <td>1442</td>\n",
       "      <td>1</td>\n",
       "      <td>7:15</td>\n",
       "      <td>Migori</td>\n",
       "      <td>Bus</td>\n",
       "      <td>49</td>\n",
       "      <td>2017</td>\n",
       "      <td>10</td>\n",
       "      <td>42</td>\n",
       "      <td>17</td>\n",
       "      <td>1</td>\n",
       "      <td>290</td>\n",
       "      <td>False</td>\n",
       "      <td>False</td>\n",
       "      <td>False</td>\n",
       "      <td>False</td>\n",
       "      <td>False</td>\n",
       "      <td>False</td>\n",
       "      <td>1508198400</td>\n",
       "    </tr>\n",
       "    <tr>\n",
       "      <th>1</th>\n",
       "      <td>5437</td>\n",
       "      <td>1</td>\n",
       "      <td>7:12</td>\n",
       "      <td>Migori</td>\n",
       "      <td>Bus</td>\n",
       "      <td>49</td>\n",
       "      <td>2017</td>\n",
       "      <td>11</td>\n",
       "      <td>46</td>\n",
       "      <td>19</td>\n",
       "      <td>6</td>\n",
       "      <td>323</td>\n",
       "      <td>False</td>\n",
       "      <td>False</td>\n",
       "      <td>False</td>\n",
       "      <td>False</td>\n",
       "      <td>False</td>\n",
       "      <td>False</td>\n",
       "      <td>1511049600</td>\n",
       "    </tr>\n",
       "    <tr>\n",
       "      <th>2</th>\n",
       "      <td>5710</td>\n",
       "      <td>1</td>\n",
       "      <td>7:05</td>\n",
       "      <td>Keroka</td>\n",
       "      <td>Bus</td>\n",
       "      <td>49</td>\n",
       "      <td>2017</td>\n",
       "      <td>11</td>\n",
       "      <td>47</td>\n",
       "      <td>26</td>\n",
       "      <td>6</td>\n",
       "      <td>330</td>\n",
       "      <td>False</td>\n",
       "      <td>False</td>\n",
       "      <td>False</td>\n",
       "      <td>False</td>\n",
       "      <td>False</td>\n",
       "      <td>False</td>\n",
       "      <td>1511654400</td>\n",
       "    </tr>\n",
       "    <tr>\n",
       "      <th>3</th>\n",
       "      <td>5777</td>\n",
       "      <td>5</td>\n",
       "      <td>7:10</td>\n",
       "      <td>Homa Bay</td>\n",
       "      <td>Bus</td>\n",
       "      <td>49</td>\n",
       "      <td>2017</td>\n",
       "      <td>11</td>\n",
       "      <td>48</td>\n",
       "      <td>27</td>\n",
       "      <td>0</td>\n",
       "      <td>331</td>\n",
       "      <td>False</td>\n",
       "      <td>False</td>\n",
       "      <td>False</td>\n",
       "      <td>False</td>\n",
       "      <td>False</td>\n",
       "      <td>False</td>\n",
       "      <td>1511740800</td>\n",
       "    </tr>\n",
       "    <tr>\n",
       "      <th>4</th>\n",
       "      <td>5778</td>\n",
       "      <td>31</td>\n",
       "      <td>7:12</td>\n",
       "      <td>Migori</td>\n",
       "      <td>Bus</td>\n",
       "      <td>49</td>\n",
       "      <td>2017</td>\n",
       "      <td>11</td>\n",
       "      <td>48</td>\n",
       "      <td>27</td>\n",
       "      <td>0</td>\n",
       "      <td>331</td>\n",
       "      <td>False</td>\n",
       "      <td>False</td>\n",
       "      <td>False</td>\n",
       "      <td>False</td>\n",
       "      <td>False</td>\n",
       "      <td>False</td>\n",
       "      <td>1511740800</td>\n",
       "    </tr>\n",
       "  </tbody>\n",
       "</table>\n",
       "</div>"
      ],
      "text/plain": [
       "   ride_id  num_tickets travel_time travel_from car_type  max_capacity  \\\n",
       "0     1442            1        7:15      Migori      Bus            49   \n",
       "1     5437            1        7:12      Migori      Bus            49   \n",
       "2     5710            1        7:05      Keroka      Bus            49   \n",
       "3     5777            5        7:10    Homa Bay      Bus            49   \n",
       "4     5778           31        7:12      Migori      Bus            49   \n",
       "\n",
       "   travel_Year  travel_Month  travel_Week  travel_Day  travel_Dayofweek  \\\n",
       "0         2017            10           42          17                 1   \n",
       "1         2017            11           46          19                 6   \n",
       "2         2017            11           47          26                 6   \n",
       "3         2017            11           48          27                 0   \n",
       "4         2017            11           48          27                 0   \n",
       "\n",
       "   travel_Dayofyear  travel_Is_month_end  travel_Is_month_start  \\\n",
       "0               290                False                  False   \n",
       "1               323                False                  False   \n",
       "2               330                False                  False   \n",
       "3               331                False                  False   \n",
       "4               331                False                  False   \n",
       "\n",
       "   travel_Is_quarter_end  travel_Is_quarter_start  travel_Is_year_end  \\\n",
       "0                  False                    False               False   \n",
       "1                  False                    False               False   \n",
       "2                  False                    False               False   \n",
       "3                  False                    False               False   \n",
       "4                  False                    False               False   \n",
       "\n",
       "   travel_Is_year_start  travel_Elapsed  \n",
       "0                 False      1508198400  \n",
       "1                 False      1511049600  \n",
       "2                 False      1511654400  \n",
       "3                 False      1511740800  \n",
       "4                 False      1511740800  "
      ]
     },
     "execution_count": 13,
     "metadata": {},
     "output_type": "execute_result"
    }
   ],
   "source": [
    "df_try.head()"
   ]
  },
  {
   "cell_type": "code",
   "execution_count": 14,
   "metadata": {},
   "outputs": [
    {
     "data": {
      "text/plain": [
       "(6249, 19)"
      ]
     },
     "execution_count": 14,
     "metadata": {},
     "output_type": "execute_result"
    }
   ],
   "source": [
    "df_try.shape"
   ]
  },
  {
   "cell_type": "code",
   "execution_count": 15,
   "metadata": {},
   "outputs": [
    {
     "data": {
      "text/plain": [
       "False    6073\n",
       "True      176\n",
       "Name: travel_Is_month_end, dtype: int64"
      ]
     },
     "execution_count": 15,
     "metadata": {},
     "output_type": "execute_result"
    }
   ],
   "source": [
    "df_try['travel_Is_month_end'].value_counts()"
   ]
  },
  {
   "cell_type": "code",
   "execution_count": 16,
   "metadata": {},
   "outputs": [],
   "source": [
    "def valuecount(fld):\n",
    "   return df_try[fld].value_counts()"
   ]
  },
  {
   "cell_type": "code",
   "execution_count": 17,
   "metadata": {},
   "outputs": [
    {
     "data": {
      "text/plain": [
       "False    5982\n",
       "True      267\n",
       "Name: travel_Is_month_start, dtype: int64"
      ]
     },
     "execution_count": 17,
     "metadata": {},
     "output_type": "execute_result"
    }
   ],
   "source": [
    "valuecount('travel_Is_month_start')"
   ]
  },
  {
   "cell_type": "code",
   "execution_count": 18,
   "metadata": {},
   "outputs": [
    {
     "data": {
      "text/plain": [
       "<matplotlib.axes._subplots.AxesSubplot at 0x7f890e58fa58>"
      ]
     },
     "execution_count": 18,
     "metadata": {},
     "output_type": "execute_result"
    },
    {
     "data": {
      "image/png": "[encoded data removed]",
      "text/plain": [
       "<Figure size 432x288 with 1 Axes>"
      ]
     },
     "metadata": {
      "needs_background": "light"
     },
     "output_type": "display_data"
    }
   ],
   "source": [
    "valuecount('travel_Dayofyear').plot.bar()"
   ]
  },
  {
   "cell_type": "code",
   "execution_count": 19,
   "metadata": {},
   "outputs": [
    {
     "data": {
      "text/plain": [
       "<matplotlib.axes._subplots.AxesSubplot at 0x7f890d703748>"
      ]
     },
     "execution_count": 19,
     "metadata": {},
     "output_type": "execute_result"
    },
    {
     "data": {
      "image/png": "[encoded data removed]",
      "text/plain": [
       "<Figure size 432x288 with 1 Axes>"
      ]
     },
     "metadata": {
      "needs_background": "light"
     },
     "output_type": "display_data"
    }
   ],
   "source": [
    "valuecount('travel_Week').plot.bar()"
   ]
  },
  {
   "cell_type": "code",
   "execution_count": 20,
   "metadata": {},
   "outputs": [
    {
     "data": {
      "text/plain": [
       "50    381\n",
       "8     335\n",
       "51    325\n",
       "7     321\n",
       "5     307\n",
       "4     294\n",
       "9     272\n",
       "48    246\n",
       "12    243\n",
       "11    242\n",
       "13    234\n",
       "44    230\n",
       "16    223\n",
       "3     207\n",
       "15    179\n",
       "14    173\n",
       "31    170\n",
       "18    157\n",
       "27    154\n",
       "40    152\n",
       "1     152\n",
       "52    149\n",
       "22    112\n",
       "2     105\n",
       "35    104\n",
       "36    102\n",
       "49     99\n",
       "41     94\n",
       "32     81\n",
       "28     81\n",
       "24     80\n",
       "37     56\n",
       "19     55\n",
       "23     33\n",
       "45     31\n",
       "10     28\n",
       "6      19\n",
       "26     19\n",
       "46      2\n",
       "47      1\n",
       "42      1\n",
       "Name: travel_Week, dtype: int64"
      ]
     },
     "execution_count": 20,
     "metadata": {},
     "output_type": "execute_result"
    }
   ],
   "source": [
    "valuecount('travel_Week')"
   ]
  },
  {
   "cell_type": "code",
   "execution_count": 21,
   "metadata": {},
   "outputs": [
    {
     "data": {
      "text/plain": [
       "<matplotlib.axes._subplots.AxesSubplot at 0x7f890d379e10>"
      ]
     },
     "execution_count": 21,
     "metadata": {},
     "output_type": "execute_result"
    },
    {
     "data": {
      "image/png": "[encoded data removed]",
      "text/plain": [
       "<Figure size 432x288 with 1 Axes>"
      ]
     },
     "metadata": {
      "needs_background": "light"
     },
     "output_type": "display_data"
    }
   ],
   "source": [
    "valuecount('travel_Day').plot.bar()\n",
    "#For some reason most people travel at the start of the month"
   ]
  },
  {
   "cell_type": "code",
   "execution_count": 22,
   "metadata": {},
   "outputs": [],
   "source": [
    "df_try['travel_time'] = pd.to_datetime(df_try['travel_time'],infer_datetime_format = True)"
   ]
  },
  {
   "cell_type": "code",
   "execution_count": 23,
   "metadata": {},
   "outputs": [],
   "source": [
    "df_new = df_try.assign(session=pd.cut(df_try.travel_time.dt.hour,[0,6,12,18,24],labels=['Night','Morning','Afternoon','Evening']))"
   ]
  },
  {
   "cell_type": "code",
   "execution_count": 24,
   "metadata": {},
   "outputs": [
    {
     "data": {
      "text/plain": [
       "(6249, 20)"
      ]
     },
     "execution_count": 24,
     "metadata": {},
     "output_type": "execute_result"
    }
   ],
   "source": [
    "df_new.shape"
   ]
  },
  {
   "cell_type": "code",
   "execution_count": 25,
   "metadata": {},
   "outputs": [],
   "source": [
    "y= df_new['num_tickets']"
   ]
  },
  {
   "cell_type": "code",
   "execution_count": 26,
   "metadata": {},
   "outputs": [],
   "source": [
    "df_model = df_new.drop(['ride_id','max_capacity','travel_Elapsed','travel_time','num_tickets'],1)"
   ]
  },
  {
   "cell_type": "code",
   "execution_count": 27,
   "metadata": {},
   "outputs": [
    {
     "data": {
      "text/plain": [
       "(6249, 15)"
      ]
     },
     "execution_count": 27,
     "metadata": {},
     "output_type": "execute_result"
    }
   ],
   "source": [
    "df_model.shape"
   ]
  },
  {
   "cell_type": "code",
   "execution_count": 28,
   "metadata": {},
   "outputs": [
    {
     "data": {
      "text/html": [
       "<div>\n",
       "<style scoped>\n",
       "    .dataframe tbody tr th:only-of-type {\n",
       "        vertical-align: middle;\n",
       "    }\n",
       "\n",
       "    .dataframe tbody tr th {\n",
       "        vertical-align: top;\n",
       "    }\n",
       "\n",
       "    .dataframe thead th {\n",
       "        text-align: right;\n",
       "    }\n",
       "</style>\n",
       "<table border=\"1\" class=\"dataframe\">\n",
       "  <thead>\n",
       "    <tr style=\"text-align: right;\">\n",
       "      <th></th>\n",
       "      <th>travel_from</th>\n",
       "      <th>car_type</th>\n",
       "      <th>travel_Year</th>\n",
       "      <th>travel_Month</th>\n",
       "      <th>travel_Week</th>\n",
       "      <th>travel_Day</th>\n",
       "      <th>travel_Dayofweek</th>\n",
       "      <th>travel_Dayofyear</th>\n",
       "      <th>travel_Is_month_end</th>\n",
       "      <th>travel_Is_month_start</th>\n",
       "      <th>travel_Is_quarter_end</th>\n",
       "      <th>travel_Is_quarter_start</th>\n",
       "      <th>travel_Is_year_end</th>\n",
       "      <th>travel_Is_year_start</th>\n",
       "      <th>session</th>\n",
       "    </tr>\n",
       "  </thead>\n",
       "  <tbody>\n",
       "    <tr>\n",
       "      <th>0</th>\n",
       "      <td>Migori</td>\n",
       "      <td>Bus</td>\n",
       "      <td>2017</td>\n",
       "      <td>10</td>\n",
       "      <td>42</td>\n",
       "      <td>17</td>\n",
       "      <td>1</td>\n",
       "      <td>290</td>\n",
       "      <td>False</td>\n",
       "      <td>False</td>\n",
       "      <td>False</td>\n",
       "      <td>False</td>\n",
       "      <td>False</td>\n",
       "      <td>False</td>\n",
       "      <td>Morning</td>\n",
       "    </tr>\n",
       "    <tr>\n",
       "      <th>1</th>\n",
       "      <td>Migori</td>\n",
       "      <td>Bus</td>\n",
       "      <td>2017</td>\n",
       "      <td>11</td>\n",
       "      <td>46</td>\n",
       "      <td>19</td>\n",
       "      <td>6</td>\n",
       "      <td>323</td>\n",
       "      <td>False</td>\n",
       "      <td>False</td>\n",
       "      <td>False</td>\n",
       "      <td>False</td>\n",
       "      <td>False</td>\n",
       "      <td>False</td>\n",
       "      <td>Morning</td>\n",
       "    </tr>\n",
       "    <tr>\n",
       "      <th>2</th>\n",
       "      <td>Keroka</td>\n",
       "      <td>Bus</td>\n",
       "      <td>2017</td>\n",
       "      <td>11</td>\n",
       "      <td>47</td>\n",
       "      <td>26</td>\n",
       "      <td>6</td>\n",
       "      <td>330</td>\n",
       "      <td>False</td>\n",
       "      <td>False</td>\n",
       "      <td>False</td>\n",
       "      <td>False</td>\n",
       "      <td>False</td>\n",
       "      <td>False</td>\n",
       "      <td>Morning</td>\n",
       "    </tr>\n",
       "    <tr>\n",
       "      <th>3</th>\n",
       "      <td>Homa Bay</td>\n",
       "      <td>Bus</td>\n",
       "      <td>2017</td>\n",
       "      <td>11</td>\n",
       "      <td>48</td>\n",
       "      <td>27</td>\n",
       "      <td>0</td>\n",
       "      <td>331</td>\n",
       "      <td>False</td>\n",
       "      <td>False</td>\n",
       "      <td>False</td>\n",
       "      <td>False</td>\n",
       "      <td>False</td>\n",
       "      <td>False</td>\n",
       "      <td>Morning</td>\n",
       "    </tr>\n",
       "    <tr>\n",
       "      <th>4</th>\n",
       "      <td>Migori</td>\n",
       "      <td>Bus</td>\n",
       "      <td>2017</td>\n",
       "      <td>11</td>\n",
       "      <td>48</td>\n",
       "      <td>27</td>\n",
       "      <td>0</td>\n",
       "      <td>331</td>\n",
       "      <td>False</td>\n",
       "      <td>False</td>\n",
       "      <td>False</td>\n",
       "      <td>False</td>\n",
       "      <td>False</td>\n",
       "      <td>False</td>\n",
       "      <td>Morning</td>\n",
       "    </tr>\n",
       "  </tbody>\n",
       "</table>\n",
       "</div>"
      ],
      "text/plain": [
       "  travel_from car_type  travel_Year  travel_Month  travel_Week  travel_Day  \\\n",
       "0      Migori      Bus         2017            10           42          17   \n",
       "1      Migori      Bus         2017            11           46          19   \n",
       "2      Keroka      Bus         2017            11           47          26   \n",
       "3    Homa Bay      Bus         2017            11           48          27   \n",
       "4      Migori      Bus         2017            11           48          27   \n",
       "\n",
       "   travel_Dayofweek  travel_Dayofyear  travel_Is_month_end  \\\n",
       "0                 1               290                False   \n",
       "1                 6               323                False   \n",
       "2                 6               330                False   \n",
       "3                 0               331                False   \n",
       "4                 0               331                False   \n",
       "\n",
       "   travel_Is_month_start  travel_Is_quarter_end  travel_Is_quarter_start  \\\n",
       "0                  False                  False                    False   \n",
       "1                  False                  False                    False   \n",
       "2                  False                  False                    False   \n",
       "3                  False                  False                    False   \n",
       "4                  False                  False                    False   \n",
       "\n",
       "   travel_Is_year_end  travel_Is_year_start  session  \n",
       "0               False                 False  Morning  \n",
       "1               False                 False  Morning  \n",
       "2               False                 False  Morning  \n",
       "3               False                 False  Morning  \n",
       "4               False                 False  Morning  "
      ]
     },
     "execution_count": 28,
     "metadata": {},
     "output_type": "execute_result"
    }
   ],
   "source": [
    "df_model.head()"
   ]
  },
  {
   "cell_type": "code",
   "execution_count": 29,
   "metadata": {},
   "outputs": [],
   "source": [
    "l = ['car_type','travel_Year','travel_Is_month_end','travel_Is_month_start',\n",
    "     'travel_Is_quarter_end','travel_Is_quarter_start','travel_Is_year_end','travel_Is_year_start','session']"
   ]
  },
  {
   "cell_type": "code",
   "execution_count": 30,
   "metadata": {},
   "outputs": [],
   "source": [
    "df_final = pd.get_dummies(data = df_model,columns = l)"
   ]
  },
  {
   "cell_type": "code",
   "execution_count": 31,
   "metadata": {},
   "outputs": [
    {
     "data": {
      "text/html": [
       "<div>\n",
       "<style scoped>\n",
       "    .dataframe tbody tr th:only-of-type {\n",
       "        vertical-align: middle;\n",
       "    }\n",
       "\n",
       "    .dataframe tbody tr th {\n",
       "        vertical-align: top;\n",
       "    }\n",
       "\n",
       "    .dataframe thead th {\n",
       "        text-align: right;\n",
       "    }\n",
       "</style>\n",
       "<table border=\"1\" class=\"dataframe\">\n",
       "  <thead>\n",
       "    <tr style=\"text-align: right;\">\n",
       "      <th></th>\n",
       "      <th>travel_from</th>\n",
       "      <th>travel_Month</th>\n",
       "      <th>travel_Week</th>\n",
       "      <th>travel_Day</th>\n",
       "      <th>travel_Dayofweek</th>\n",
       "      <th>travel_Dayofyear</th>\n",
       "      <th>car_type_Bus</th>\n",
       "      <th>car_type_shuttle</th>\n",
       "      <th>travel_Year_2017</th>\n",
       "      <th>travel_Year_2018</th>\n",
       "      <th>...</th>\n",
       "      <th>travel_Is_quarter_start_False</th>\n",
       "      <th>travel_Is_quarter_start_True</th>\n",
       "      <th>travel_Is_year_end_False</th>\n",
       "      <th>travel_Is_year_end_True</th>\n",
       "      <th>travel_Is_year_start_False</th>\n",
       "      <th>travel_Is_year_start_True</th>\n",
       "      <th>session_Night</th>\n",
       "      <th>session_Morning</th>\n",
       "      <th>session_Afternoon</th>\n",
       "      <th>session_Evening</th>\n",
       "    </tr>\n",
       "  </thead>\n",
       "  <tbody>\n",
       "    <tr>\n",
       "      <th>0</th>\n",
       "      <td>Migori</td>\n",
       "      <td>10</td>\n",
       "      <td>42</td>\n",
       "      <td>17</td>\n",
       "      <td>1</td>\n",
       "      <td>290</td>\n",
       "      <td>1</td>\n",
       "      <td>0</td>\n",
       "      <td>1</td>\n",
       "      <td>0</td>\n",
       "      <td>...</td>\n",
       "      <td>1</td>\n",
       "      <td>0</td>\n",
       "      <td>1</td>\n",
       "      <td>0</td>\n",
       "      <td>1</td>\n",
       "      <td>0</td>\n",
       "      <td>0</td>\n",
       "      <td>1</td>\n",
       "      <td>0</td>\n",
       "      <td>0</td>\n",
       "    </tr>\n",
       "    <tr>\n",
       "      <th>1</th>\n",
       "      <td>Migori</td>\n",
       "      <td>11</td>\n",
       "      <td>46</td>\n",
       "      <td>19</td>\n",
       "      <td>6</td>\n",
       "      <td>323</td>\n",
       "      <td>1</td>\n",
       "      <td>0</td>\n",
       "      <td>1</td>\n",
       "      <td>0</td>\n",
       "      <td>...</td>\n",
       "      <td>1</td>\n",
       "      <td>0</td>\n",
       "      <td>1</td>\n",
       "      <td>0</td>\n",
       "      <td>1</td>\n",
       "      <td>0</td>\n",
       "      <td>0</td>\n",
       "      <td>1</td>\n",
       "      <td>0</td>\n",
       "      <td>0</td>\n",
       "    </tr>\n",
       "    <tr>\n",
       "      <th>2</th>\n",
       "      <td>Keroka</td>\n",
       "      <td>11</td>\n",
       "      <td>47</td>\n",
       "      <td>26</td>\n",
       "      <td>6</td>\n",
       "      <td>330</td>\n",
       "      <td>1</td>\n",
       "      <td>0</td>\n",
       "      <td>1</td>\n",
       "      <td>0</td>\n",
       "      <td>...</td>\n",
       "      <td>1</td>\n",
       "      <td>0</td>\n",
       "      <td>1</td>\n",
       "      <td>0</td>\n",
       "      <td>1</td>\n",
       "      <td>0</td>\n",
       "      <td>0</td>\n",
       "      <td>1</td>\n",
       "      <td>0</td>\n",
       "      <td>0</td>\n",
       "    </tr>\n",
       "    <tr>\n",
       "      <th>3</th>\n",
       "      <td>Homa Bay</td>\n",
       "      <td>11</td>\n",
       "      <td>48</td>\n",
       "      <td>27</td>\n",
       "      <td>0</td>\n",
       "      <td>331</td>\n",
       "      <td>1</td>\n",
       "      <td>0</td>\n",
       "      <td>1</td>\n",
       "      <td>0</td>\n",
       "      <td>...</td>\n",
       "      <td>1</td>\n",
       "      <td>0</td>\n",
       "      <td>1</td>\n",
       "      <td>0</td>\n",
       "      <td>1</td>\n",
       "      <td>0</td>\n",
       "      <td>0</td>\n",
       "      <td>1</td>\n",
       "      <td>0</td>\n",
       "      <td>0</td>\n",
       "    </tr>\n",
       "    <tr>\n",
       "      <th>4</th>\n",
       "      <td>Migori</td>\n",
       "      <td>11</td>\n",
       "      <td>48</td>\n",
       "      <td>27</td>\n",
       "      <td>0</td>\n",
       "      <td>331</td>\n",
       "      <td>1</td>\n",
       "      <td>0</td>\n",
       "      <td>1</td>\n",
       "      <td>0</td>\n",
       "      <td>...</td>\n",
       "      <td>1</td>\n",
       "      <td>0</td>\n",
       "      <td>1</td>\n",
       "      <td>0</td>\n",
       "      <td>1</td>\n",
       "      <td>0</td>\n",
       "      <td>0</td>\n",
       "      <td>1</td>\n",
       "      <td>0</td>\n",
       "      <td>0</td>\n",
       "    </tr>\n",
       "  </tbody>\n",
       "</table>\n",
       "<p>5 rows × 26 columns</p>\n",
       "</div>"
      ],
      "text/plain": [
       "  travel_from  travel_Month  travel_Week  travel_Day  travel_Dayofweek  \\\n",
       "0      Migori            10           42          17                 1   \n",
       "1      Migori            11           46          19                 6   \n",
       "2      Keroka            11           47          26                 6   \n",
       "3    Homa Bay            11           48          27                 0   \n",
       "4      Migori            11           48          27                 0   \n",
       "\n",
       "   travel_Dayofyear  car_type_Bus  car_type_shuttle  travel_Year_2017  \\\n",
       "0               290             1                 0                 1   \n",
       "1               323             1                 0                 1   \n",
       "2               330             1                 0                 1   \n",
       "3               331             1                 0                 1   \n",
       "4               331             1                 0                 1   \n",
       "\n",
       "   travel_Year_2018       ...         travel_Is_quarter_start_False  \\\n",
       "0                 0       ...                                     1   \n",
       "1                 0       ...                                     1   \n",
       "2                 0       ...                                     1   \n",
       "3                 0       ...                                     1   \n",
       "4                 0       ...                                     1   \n",
       "\n",
       "   travel_Is_quarter_start_True  travel_Is_year_end_False  \\\n",
       "0                             0                         1   \n",
       "1                             0                         1   \n",
       "2                             0                         1   \n",
       "3                             0                         1   \n",
       "4                             0                         1   \n",
       "\n",
       "   travel_Is_year_end_True  travel_Is_year_start_False  \\\n",
       "0                        0                           1   \n",
       "1                        0                           1   \n",
       "2                        0                           1   \n",
       "3                        0                           1   \n",
       "4                        0                           1   \n",
       "\n",
       "   travel_Is_year_start_True  session_Night  session_Morning  \\\n",
       "0                          0              0                1   \n",
       "1                          0              0                1   \n",
       "2                          0              0                1   \n",
       "3                          0              0                1   \n",
       "4                          0              0                1   \n",
       "\n",
       "   session_Afternoon  session_Evening  \n",
       "0                  0                0  \n",
       "1                  0                0  \n",
       "2                  0                0  \n",
       "3                  0                0  \n",
       "4                  0                0  \n",
       "\n",
       "[5 rows x 26 columns]"
      ]
     },
     "execution_count": 31,
     "metadata": {},
     "output_type": "execute_result"
    }
   ],
   "source": [
    "df_final.head()"
   ]
  },
  {
   "cell_type": "code",
   "execution_count": 32,
   "metadata": {},
   "outputs": [],
   "source": [
    "df_final['travel_from'] = ['most_pop' if i == 'Kisii' else 'Other' for i in df_final['travel_from']]"
   ]
  },
  {
   "cell_type": "code",
   "execution_count": 33,
   "metadata": {},
   "outputs": [],
   "source": [
    "X_new = pd.get_dummies(df_final,columns = ['travel_from'])"
   ]
  },
  {
   "cell_type": "code",
   "execution_count": 34,
   "metadata": {},
   "outputs": [
    {
     "data": {
      "text/html": [
       "<div>\n",
       "<style scoped>\n",
       "    .dataframe tbody tr th:only-of-type {\n",
       "        vertical-align: middle;\n",
       "    }\n",
       "\n",
       "    .dataframe tbody tr th {\n",
       "        vertical-align: top;\n",
       "    }\n",
       "\n",
       "    .dataframe thead th {\n",
       "        text-align: right;\n",
       "    }\n",
       "</style>\n",
       "<table border=\"1\" class=\"dataframe\">\n",
       "  <thead>\n",
       "    <tr style=\"text-align: right;\">\n",
       "      <th></th>\n",
       "      <th>travel_Month</th>\n",
       "      <th>travel_Week</th>\n",
       "      <th>travel_Day</th>\n",
       "      <th>travel_Dayofweek</th>\n",
       "      <th>travel_Dayofyear</th>\n",
       "      <th>car_type_Bus</th>\n",
       "      <th>car_type_shuttle</th>\n",
       "      <th>travel_Year_2017</th>\n",
       "      <th>travel_Year_2018</th>\n",
       "      <th>travel_Is_month_end_False</th>\n",
       "      <th>...</th>\n",
       "      <th>travel_Is_year_end_False</th>\n",
       "      <th>travel_Is_year_end_True</th>\n",
       "      <th>travel_Is_year_start_False</th>\n",
       "      <th>travel_Is_year_start_True</th>\n",
       "      <th>session_Night</th>\n",
       "      <th>session_Morning</th>\n",
       "      <th>session_Afternoon</th>\n",
       "      <th>session_Evening</th>\n",
       "      <th>travel_from_Other</th>\n",
       "      <th>travel_from_most_pop</th>\n",
       "    </tr>\n",
       "  </thead>\n",
       "  <tbody>\n",
       "    <tr>\n",
       "      <th>0</th>\n",
       "      <td>10</td>\n",
       "      <td>42</td>\n",
       "      <td>17</td>\n",
       "      <td>1</td>\n",
       "      <td>290</td>\n",
       "      <td>1</td>\n",
       "      <td>0</td>\n",
       "      <td>1</td>\n",
       "      <td>0</td>\n",
       "      <td>1</td>\n",
       "      <td>...</td>\n",
       "      <td>1</td>\n",
       "      <td>0</td>\n",
       "      <td>1</td>\n",
       "      <td>0</td>\n",
       "      <td>0</td>\n",
       "      <td>1</td>\n",
       "      <td>0</td>\n",
       "      <td>0</td>\n",
       "      <td>1</td>\n",
       "      <td>0</td>\n",
       "    </tr>\n",
       "    <tr>\n",
       "      <th>1</th>\n",
       "      <td>11</td>\n",
       "      <td>46</td>\n",
       "      <td>19</td>\n",
       "      <td>6</td>\n",
       "      <td>323</td>\n",
       "      <td>1</td>\n",
       "      <td>0</td>\n",
       "      <td>1</td>\n",
       "      <td>0</td>\n",
       "      <td>1</td>\n",
       "      <td>...</td>\n",
       "      <td>1</td>\n",
       "      <td>0</td>\n",
       "      <td>1</td>\n",
       "      <td>0</td>\n",
       "      <td>0</td>\n",
       "      <td>1</td>\n",
       "      <td>0</td>\n",
       "      <td>0</td>\n",
       "      <td>1</td>\n",
       "      <td>0</td>\n",
       "    </tr>\n",
       "    <tr>\n",
       "      <th>2</th>\n",
       "      <td>11</td>\n",
       "      <td>47</td>\n",
       "      <td>26</td>\n",
       "      <td>6</td>\n",
       "      <td>330</td>\n",
       "      <td>1</td>\n",
       "      <td>0</td>\n",
       "      <td>1</td>\n",
       "      <td>0</td>\n",
       "      <td>1</td>\n",
       "      <td>...</td>\n",
       "      <td>1</td>\n",
       "      <td>0</td>\n",
       "      <td>1</td>\n",
       "      <td>0</td>\n",
       "      <td>0</td>\n",
       "      <td>1</td>\n",
       "      <td>0</td>\n",
       "      <td>0</td>\n",
       "      <td>1</td>\n",
       "      <td>0</td>\n",
       "    </tr>\n",
       "    <tr>\n",
       "      <th>3</th>\n",
       "      <td>11</td>\n",
       "      <td>48</td>\n",
       "      <td>27</td>\n",
       "      <td>0</td>\n",
       "      <td>331</td>\n",
       "      <td>1</td>\n",
       "      <td>0</td>\n",
       "      <td>1</td>\n",
       "      <td>0</td>\n",
       "      <td>1</td>\n",
       "      <td>...</td>\n",
       "      <td>1</td>\n",
       "      <td>0</td>\n",
       "      <td>1</td>\n",
       "      <td>0</td>\n",
       "      <td>0</td>\n",
       "      <td>1</td>\n",
       "      <td>0</td>\n",
       "      <td>0</td>\n",
       "      <td>1</td>\n",
       "      <td>0</td>\n",
       "    </tr>\n",
       "    <tr>\n",
       "      <th>4</th>\n",
       "      <td>11</td>\n",
       "      <td>48</td>\n",
       "      <td>27</td>\n",
       "      <td>0</td>\n",
       "      <td>331</td>\n",
       "      <td>1</td>\n",
       "      <td>0</td>\n",
       "      <td>1</td>\n",
       "      <td>0</td>\n",
       "      <td>1</td>\n",
       "      <td>...</td>\n",
       "      <td>1</td>\n",
       "      <td>0</td>\n",
       "      <td>1</td>\n",
       "      <td>0</td>\n",
       "      <td>0</td>\n",
       "      <td>1</td>\n",
       "      <td>0</td>\n",
       "      <td>0</td>\n",
       "      <td>1</td>\n",
       "      <td>0</td>\n",
       "    </tr>\n",
       "  </tbody>\n",
       "</table>\n",
       "<p>5 rows × 27 columns</p>\n",
       "</div>"
      ],
      "text/plain": [
       "   travel_Month  travel_Week  travel_Day  travel_Dayofweek  travel_Dayofyear  \\\n",
       "0            10           42          17                 1               290   \n",
       "1            11           46          19                 6               323   \n",
       "2            11           47          26                 6               330   \n",
       "3            11           48          27                 0               331   \n",
       "4            11           48          27                 0               331   \n",
       "\n",
       "   car_type_Bus  car_type_shuttle  travel_Year_2017  travel_Year_2018  \\\n",
       "0             1                 0                 1                 0   \n",
       "1             1                 0                 1                 0   \n",
       "2             1                 0                 1                 0   \n",
       "3             1                 0                 1                 0   \n",
       "4             1                 0                 1                 0   \n",
       "\n",
       "   travel_Is_month_end_False          ...           travel_Is_year_end_False  \\\n",
       "0                          1          ...                                  1   \n",
       "1                          1          ...                                  1   \n",
       "2                          1          ...                                  1   \n",
       "3                          1          ...                                  1   \n",
       "4                          1          ...                                  1   \n",
       "\n",
       "   travel_Is_year_end_True  travel_Is_year_start_False  \\\n",
       "0                        0                           1   \n",
       "1                        0                           1   \n",
       "2                        0                           1   \n",
       "3                        0                           1   \n",
       "4                        0                           1   \n",
       "\n",
       "   travel_Is_year_start_True  session_Night  session_Morning  \\\n",
       "0                          0              0                1   \n",
       "1                          0              0                1   \n",
       "2                          0              0                1   \n",
       "3                          0              0                1   \n",
       "4                          0              0                1   \n",
       "\n",
       "   session_Afternoon  session_Evening  travel_from_Other  travel_from_most_pop  \n",
       "0                  0                0                  1                     0  \n",
       "1                  0                0                  1                     0  \n",
       "2                  0                0                  1                     0  \n",
       "3                  0                0                  1                     0  \n",
       "4                  0                0                  1                     0  \n",
       "\n",
       "[5 rows x 27 columns]"
      ]
     },
     "execution_count": 34,
     "metadata": {},
     "output_type": "execute_result"
    }
   ],
   "source": [
    "X_new.head()"
   ]
  },
  {
   "cell_type": "code",
   "execution_count": 35,
   "metadata": {},
   "outputs": [],
   "source": [
    "X = X_new.drop(['travel_Is_quarter_end_True', 'travel_Is_quarter_start_True',\n",
    "       'travel_Is_year_end_True', 'travel_Is_year_start_True',\n",
    "       'travel_Year_2017'],1)"
   ]
  },
  {
   "cell_type": "code",
   "execution_count": 36,
   "metadata": {},
   "outputs": [],
   "source": [
    "from itertools import combinations\n",
    "from sklearn.preprocessing import PolynomialFeatures"
   ]
  },
  {
   "cell_type": "code",
   "execution_count": 37,
   "metadata": {},
   "outputs": [],
   "source": [
    "def add_interactions(df):\n",
    "    #Get feature names\n",
    "    combos = list(combinations(list(df.columns),2))\n",
    "    colnames = list(df.columns)+['_'.join(x) for x in combos]\n",
    "    \n",
    "    #find interactions\n",
    "    poly = PolynomialFeatures(interaction_only = True,include_bias = False)\n",
    "    df = poly.fit_transform(df)\n",
    "    df=pd.DataFrame(df)\n",
    "    df.columns = colnames\n",
    "    \n",
    "    #remove intercation terms with all 0 values\n",
    "    noint_indicies = [i for i,x in enumerate(list((df==0).all())) if x]\n",
    "    df = df.drop(df.columns[noint_indicies],axis = 1)\n",
    "    \n",
    "    return df"
   ]
  },
  {
   "cell_type": "code",
   "execution_count": 38,
   "metadata": {},
   "outputs": [
    {
     "name": "stdout",
     "output_type": "stream",
     "text": [
      "<class 'pandas.core.frame.DataFrame'>\n",
      "Int64Index: 6249 entries, 0 to 6248\n",
      "Data columns (total 22 columns):\n",
      "travel_Month                     6249 non-null int64\n",
      "travel_Week                      6249 non-null int64\n",
      "travel_Day                       6249 non-null int64\n",
      "travel_Dayofweek                 6249 non-null int64\n",
      "travel_Dayofyear                 6249 non-null int64\n",
      "car_type_Bus                     6249 non-null uint8\n",
      "car_type_shuttle                 6249 non-null uint8\n",
      "travel_Year_2018                 6249 non-null uint8\n",
      "travel_Is_month_end_False        6249 non-null uint8\n",
      "travel_Is_month_end_True         6249 non-null uint8\n",
      "travel_Is_month_start_False      6249 non-null uint8\n",
      "travel_Is_month_start_True       6249 non-null uint8\n",
      "travel_Is_quarter_end_False      6249 non-null uint8\n",
      "travel_Is_quarter_start_False    6249 non-null uint8\n",
      "travel_Is_year_end_False         6249 non-null uint8\n",
      "travel_Is_year_start_False       6249 non-null uint8\n",
      "session_Night                    6249 non-null uint8\n",
      "session_Morning                  6249 non-null uint8\n",
      "session_Afternoon                6249 non-null uint8\n",
      "session_Evening                  6249 non-null uint8\n",
      "travel_from_Other                6249 non-null uint8\n",
      "travel_from_most_pop             6249 non-null uint8\n",
      "dtypes: int64(5), uint8(17)\n",
      "memory usage: 396.7 KB\n"
     ]
    }
   ],
   "source": [
    "X.info()"
   ]
  },
  {
   "cell_type": "code",
   "execution_count": 39,
   "metadata": {},
   "outputs": [],
   "source": [
    "df_final_train = add_interactions(X)"
   ]
  },
  {
   "cell_type": "code",
   "execution_count": 41,
   "metadata": {},
   "outputs": [],
   "source": [
    "x1 = df_final_train.drop(['travel_Dayofweek_travel_Is_month_end_True'],1)"
   ]
  },
  {
   "cell_type": "code",
   "execution_count": 42,
   "metadata": {},
   "outputs": [
    {
     "data": {
      "text/plain": [
       "(6249, 221)"
      ]
     },
     "execution_count": 42,
     "metadata": {},
     "output_type": "execute_result"
    }
   ],
   "source": [
    "x1.shape"
   ]
  },
  {
   "cell_type": "code",
   "execution_count": 43,
   "metadata": {},
   "outputs": [],
   "source": [
    "from sklearn.model_selection import train_test_split"
   ]
  },
  {
   "cell_type": "code",
   "execution_count": 44,
   "metadata": {},
   "outputs": [
    {
     "name": "stderr",
     "output_type": "stream",
     "text": [
      "/home/stush/anaconda3/lib/python3.6/site-packages/sklearn/model_selection/_split.py:2026: FutureWarning: From version 0.21, test_size will always complement train_size unless both are specified.\n",
      "  FutureWarning)\n"
     ]
    }
   ],
   "source": [
    "x1_train,x1_test,y_train,y_test = train_test_split(x1,y,train_size = 0.70,random_state= 1)"
   ]
  },
  {
   "cell_type": "code",
   "execution_count": 45,
   "metadata": {},
   "outputs": [
    {
     "data": {
      "text/html": [
       "<div>\n",
       "<style scoped>\n",
       "    .dataframe tbody tr th:only-of-type {\n",
       "        vertical-align: middle;\n",
       "    }\n",
       "\n",
       "    .dataframe tbody tr th {\n",
       "        vertical-align: top;\n",
       "    }\n",
       "\n",
       "    .dataframe thead th {\n",
       "        text-align: right;\n",
       "    }\n",
       "</style>\n",
       "<table border=\"1\" class=\"dataframe\">\n",
       "  <thead>\n",
       "    <tr style=\"text-align: right;\">\n",
       "      <th></th>\n",
       "      <th>travel_Month</th>\n",
       "      <th>travel_Week</th>\n",
       "      <th>travel_Day</th>\n",
       "      <th>travel_Dayofweek</th>\n",
       "      <th>travel_Dayofyear</th>\n",
       "      <th>car_type_Bus</th>\n",
       "      <th>car_type_shuttle</th>\n",
       "      <th>travel_Year_2018</th>\n",
       "      <th>travel_Is_month_end_False</th>\n",
       "      <th>travel_Is_month_end_True</th>\n",
       "      <th>...</th>\n",
       "      <th>travel_Is_year_start_False_session_Morning</th>\n",
       "      <th>travel_Is_year_start_False_session_Evening</th>\n",
       "      <th>travel_Is_year_start_False_travel_from_Other</th>\n",
       "      <th>travel_Is_year_start_False_travel_from_most_pop</th>\n",
       "      <th>session_Night_travel_from_Other</th>\n",
       "      <th>session_Night_travel_from_most_pop</th>\n",
       "      <th>session_Morning_travel_from_Other</th>\n",
       "      <th>session_Morning_travel_from_most_pop</th>\n",
       "      <th>session_Evening_travel_from_Other</th>\n",
       "      <th>session_Evening_travel_from_most_pop</th>\n",
       "    </tr>\n",
       "  </thead>\n",
       "  <tbody>\n",
       "    <tr>\n",
       "      <th>3256</th>\n",
       "      <td>10.0</td>\n",
       "      <td>40.0</td>\n",
       "      <td>2.0</td>\n",
       "      <td>1.0</td>\n",
       "      <td>275.0</td>\n",
       "      <td>0.0</td>\n",
       "      <td>1.0</td>\n",
       "      <td>1.0</td>\n",
       "      <td>1.0</td>\n",
       "      <td>0.0</td>\n",
       "      <td>...</td>\n",
       "      <td>1.0</td>\n",
       "      <td>0.0</td>\n",
       "      <td>1.0</td>\n",
       "      <td>0.0</td>\n",
       "      <td>0.0</td>\n",
       "      <td>0.0</td>\n",
       "      <td>1.0</td>\n",
       "      <td>0.0</td>\n",
       "      <td>0.0</td>\n",
       "      <td>0.0</td>\n",
       "    </tr>\n",
       "    <tr>\n",
       "      <th>3554</th>\n",
       "      <td>12.0</td>\n",
       "      <td>51.0</td>\n",
       "      <td>21.0</td>\n",
       "      <td>3.0</td>\n",
       "      <td>355.0</td>\n",
       "      <td>1.0</td>\n",
       "      <td>0.0</td>\n",
       "      <td>0.0</td>\n",
       "      <td>1.0</td>\n",
       "      <td>0.0</td>\n",
       "      <td>...</td>\n",
       "      <td>1.0</td>\n",
       "      <td>0.0</td>\n",
       "      <td>0.0</td>\n",
       "      <td>1.0</td>\n",
       "      <td>0.0</td>\n",
       "      <td>0.0</td>\n",
       "      <td>0.0</td>\n",
       "      <td>1.0</td>\n",
       "      <td>0.0</td>\n",
       "      <td>0.0</td>\n",
       "    </tr>\n",
       "    <tr>\n",
       "      <th>5038</th>\n",
       "      <td>3.0</td>\n",
       "      <td>11.0</td>\n",
       "      <td>16.0</td>\n",
       "      <td>4.0</td>\n",
       "      <td>75.0</td>\n",
       "      <td>0.0</td>\n",
       "      <td>1.0</td>\n",
       "      <td>1.0</td>\n",
       "      <td>1.0</td>\n",
       "      <td>0.0</td>\n",
       "      <td>...</td>\n",
       "      <td>1.0</td>\n",
       "      <td>0.0</td>\n",
       "      <td>1.0</td>\n",
       "      <td>0.0</td>\n",
       "      <td>0.0</td>\n",
       "      <td>0.0</td>\n",
       "      <td>1.0</td>\n",
       "      <td>0.0</td>\n",
       "      <td>0.0</td>\n",
       "      <td>0.0</td>\n",
       "    </tr>\n",
       "    <tr>\n",
       "      <th>1406</th>\n",
       "      <td>2.0</td>\n",
       "      <td>7.0</td>\n",
       "      <td>18.0</td>\n",
       "      <td>6.0</td>\n",
       "      <td>49.0</td>\n",
       "      <td>0.0</td>\n",
       "      <td>1.0</td>\n",
       "      <td>1.0</td>\n",
       "      <td>1.0</td>\n",
       "      <td>0.0</td>\n",
       "      <td>...</td>\n",
       "      <td>1.0</td>\n",
       "      <td>0.0</td>\n",
       "      <td>0.0</td>\n",
       "      <td>1.0</td>\n",
       "      <td>0.0</td>\n",
       "      <td>0.0</td>\n",
       "      <td>0.0</td>\n",
       "      <td>1.0</td>\n",
       "      <td>0.0</td>\n",
       "      <td>0.0</td>\n",
       "    </tr>\n",
       "    <tr>\n",
       "      <th>4964</th>\n",
       "      <td>3.0</td>\n",
       "      <td>11.0</td>\n",
       "      <td>14.0</td>\n",
       "      <td>2.0</td>\n",
       "      <td>73.0</td>\n",
       "      <td>1.0</td>\n",
       "      <td>0.0</td>\n",
       "      <td>1.0</td>\n",
       "      <td>1.0</td>\n",
       "      <td>0.0</td>\n",
       "      <td>...</td>\n",
       "      <td>1.0</td>\n",
       "      <td>0.0</td>\n",
       "      <td>1.0</td>\n",
       "      <td>0.0</td>\n",
       "      <td>0.0</td>\n",
       "      <td>0.0</td>\n",
       "      <td>1.0</td>\n",
       "      <td>0.0</td>\n",
       "      <td>0.0</td>\n",
       "      <td>0.0</td>\n",
       "    </tr>\n",
       "  </tbody>\n",
       "</table>\n",
       "<p>5 rows × 221 columns</p>\n",
       "</div>"
      ],
      "text/plain": [
       "      travel_Month  travel_Week  travel_Day  travel_Dayofweek  \\\n",
       "3256          10.0         40.0         2.0               1.0   \n",
       "3554          12.0         51.0        21.0               3.0   \n",
       "5038           3.0         11.0        16.0               4.0   \n",
       "1406           2.0          7.0        18.0               6.0   \n",
       "4964           3.0         11.0        14.0               2.0   \n",
       "\n",
       "      travel_Dayofyear  car_type_Bus  car_type_shuttle  travel_Year_2018  \\\n",
       "3256             275.0           0.0               1.0               1.0   \n",
       "3554             355.0           1.0               0.0               0.0   \n",
       "5038              75.0           0.0               1.0               1.0   \n",
       "1406              49.0           0.0               1.0               1.0   \n",
       "4964              73.0           1.0               0.0               1.0   \n",
       "\n",
       "      travel_Is_month_end_False  travel_Is_month_end_True  \\\n",
       "3256                        1.0                       0.0   \n",
       "3554                        1.0                       0.0   \n",
       "5038                        1.0                       0.0   \n",
       "1406                        1.0                       0.0   \n",
       "4964                        1.0                       0.0   \n",
       "\n",
       "                      ...                   \\\n",
       "3256                  ...                    \n",
       "3554                  ...                    \n",
       "5038                  ...                    \n",
       "1406                  ...                    \n",
       "4964                  ...                    \n",
       "\n",
       "      travel_Is_year_start_False_session_Morning  \\\n",
       "3256                                         1.0   \n",
       "3554                                         1.0   \n",
       "5038                                         1.0   \n",
       "1406                                         1.0   \n",
       "4964                                         1.0   \n",
       "\n",
       "      travel_Is_year_start_False_session_Evening  \\\n",
       "3256                                         0.0   \n",
       "3554                                         0.0   \n",
       "5038                                         0.0   \n",
       "1406                                         0.0   \n",
       "4964                                         0.0   \n",
       "\n",
       "      travel_Is_year_start_False_travel_from_Other  \\\n",
       "3256                                           1.0   \n",
       "3554                                           0.0   \n",
       "5038                                           1.0   \n",
       "1406                                           0.0   \n",
       "4964                                           1.0   \n",
       "\n",
       "      travel_Is_year_start_False_travel_from_most_pop  \\\n",
       "3256                                              0.0   \n",
       "3554                                              1.0   \n",
       "5038                                              0.0   \n",
       "1406                                              1.0   \n",
       "4964                                              0.0   \n",
       "\n",
       "      session_Night_travel_from_Other  session_Night_travel_from_most_pop  \\\n",
       "3256                              0.0                                 0.0   \n",
       "3554                              0.0                                 0.0   \n",
       "5038                              0.0                                 0.0   \n",
       "1406                              0.0                                 0.0   \n",
       "4964                              0.0                                 0.0   \n",
       "\n",
       "      session_Morning_travel_from_Other  session_Morning_travel_from_most_pop  \\\n",
       "3256                                1.0                                   0.0   \n",
       "3554                                0.0                                   1.0   \n",
       "5038                                1.0                                   0.0   \n",
       "1406                                0.0                                   1.0   \n",
       "4964                                1.0                                   0.0   \n",
       "\n",
       "      session_Evening_travel_from_Other  session_Evening_travel_from_most_pop  \n",
       "3256                                0.0                                   0.0  \n",
       "3554                                0.0                                   0.0  \n",
       "5038                                0.0                                   0.0  \n",
       "1406                                0.0                                   0.0  \n",
       "4964                                0.0                                   0.0  \n",
       "\n",
       "[5 rows x 221 columns]"
      ]
     },
     "execution_count": 45,
     "metadata": {},
     "output_type": "execute_result"
    }
   ],
   "source": [
    "x1_train.head()"
   ]
  },
  {
   "cell_type": "code",
   "execution_count": 46,
   "metadata": {},
   "outputs": [],
   "source": [
    "import sklearn.feature_selection"
   ]
  },
  {
   "cell_type": "code",
   "execution_count": 47,
   "metadata": {},
   "outputs": [],
   "source": [
    "select = sklearn.feature_selection.SelectKBest(k=100)\n",
    "selected_features=select.fit(x1_train,y_train)\n",
    "indices_selected = selected_features.get_support(indices=True)\n",
    "colnames_selected = [x1.columns[i] for i in indices_selected]"
   ]
  },
  {
   "cell_type": "code",
   "execution_count": 48,
   "metadata": {},
   "outputs": [],
   "source": [
    "x1_train_selected= x1_train[colnames_selected]\n",
    "x1_test_selected = x1_test[colnames_selected]"
   ]
  },
  {
   "cell_type": "code",
   "execution_count": 49,
   "metadata": {},
   "outputs": [
    {
     "data": {
      "text/plain": [
       "['car_type_Bus',\n",
       " 'car_type_shuttle',\n",
       " 'session_Night',\n",
       " 'session_Morning',\n",
       " 'session_Evening',\n",
       " 'travel_from_Other',\n",
       " 'travel_from_most_pop',\n",
       " 'travel_Month_car_type_Bus',\n",
       " 'travel_Month_car_type_shuttle',\n",
       " 'travel_Month_session_Night',\n",
       " 'travel_Month_session_Morning',\n",
       " 'travel_Month_session_Evening',\n",
       " 'travel_Month_travel_from_Other',\n",
       " 'travel_Month_travel_from_most_pop',\n",
       " 'travel_Week_car_type_Bus',\n",
       " 'travel_Week_car_type_shuttle',\n",
       " 'travel_Week_session_Night',\n",
       " 'travel_Week_session_Evening',\n",
       " 'travel_Week_travel_from_Other',\n",
       " 'travel_Week_travel_from_most_pop',\n",
       " 'travel_Day_car_type_Bus',\n",
       " 'travel_Day_car_type_shuttle',\n",
       " 'travel_Day_session_Night',\n",
       " 'travel_Day_session_Evening',\n",
       " 'travel_Day_travel_from_Other',\n",
       " 'travel_Day_travel_from_most_pop',\n",
       " 'travel_Dayofweek_car_type_Bus',\n",
       " 'travel_Dayofweek_car_type_shuttle',\n",
       " 'travel_Dayofweek_session_Night',\n",
       " 'travel_Dayofweek_session_Evening',\n",
       " 'travel_Dayofweek_travel_from_Other',\n",
       " 'travel_Dayofweek_travel_from_most_pop',\n",
       " 'travel_Dayofyear_car_type_Bus',\n",
       " 'travel_Dayofyear_car_type_shuttle',\n",
       " 'travel_Dayofyear_session_Night',\n",
       " 'travel_Dayofyear_session_Evening',\n",
       " 'travel_Dayofyear_travel_from_Other',\n",
       " 'travel_Dayofyear_travel_from_most_pop',\n",
       " 'car_type_Bus_travel_Year_2018',\n",
       " 'car_type_Bus_travel_Is_month_end_False',\n",
       " 'car_type_Bus_travel_Is_month_start_False',\n",
       " 'car_type_Bus_travel_Is_quarter_end_False',\n",
       " 'car_type_Bus_travel_Is_quarter_start_False',\n",
       " 'car_type_Bus_travel_Is_year_end_False',\n",
       " 'car_type_Bus_travel_Is_year_start_False',\n",
       " 'car_type_Bus_session_Morning',\n",
       " 'car_type_Bus_session_Evening',\n",
       " 'car_type_Bus_travel_from_Other',\n",
       " 'car_type_Bus_travel_from_most_pop',\n",
       " 'car_type_shuttle_travel_Year_2018',\n",
       " 'car_type_shuttle_travel_Is_month_end_False',\n",
       " 'car_type_shuttle_travel_Is_month_start_False',\n",
       " 'car_type_shuttle_travel_Is_quarter_end_False',\n",
       " 'car_type_shuttle_travel_Is_quarter_start_False',\n",
       " 'car_type_shuttle_travel_Is_year_end_False',\n",
       " 'car_type_shuttle_travel_Is_year_start_False',\n",
       " 'car_type_shuttle_session_Night',\n",
       " 'car_type_shuttle_session_Morning',\n",
       " 'car_type_shuttle_travel_from_Other',\n",
       " 'car_type_shuttle_travel_from_most_pop',\n",
       " 'travel_Year_2018_session_Night',\n",
       " 'travel_Year_2018_session_Morning',\n",
       " 'travel_Year_2018_session_Evening',\n",
       " 'travel_Year_2018_travel_from_Other',\n",
       " 'travel_Year_2018_travel_from_most_pop',\n",
       " 'travel_Is_month_end_False_session_Night',\n",
       " 'travel_Is_month_end_False_session_Morning',\n",
       " 'travel_Is_month_end_False_session_Evening',\n",
       " 'travel_Is_month_end_False_travel_from_Other',\n",
       " 'travel_Is_month_end_False_travel_from_most_pop',\n",
       " 'travel_Is_month_start_False_session_Night',\n",
       " 'travel_Is_month_start_False_session_Morning',\n",
       " 'travel_Is_month_start_False_session_Evening',\n",
       " 'travel_Is_month_start_False_travel_from_Other',\n",
       " 'travel_Is_month_start_False_travel_from_most_pop',\n",
       " 'travel_Is_quarter_end_False_session_Night',\n",
       " 'travel_Is_quarter_end_False_session_Morning',\n",
       " 'travel_Is_quarter_end_False_session_Evening',\n",
       " 'travel_Is_quarter_end_False_travel_from_Other',\n",
       " 'travel_Is_quarter_end_False_travel_from_most_pop',\n",
       " 'travel_Is_quarter_start_False_session_Night',\n",
       " 'travel_Is_quarter_start_False_session_Morning',\n",
       " 'travel_Is_quarter_start_False_session_Evening',\n",
       " 'travel_Is_quarter_start_False_travel_from_Other',\n",
       " 'travel_Is_quarter_start_False_travel_from_most_pop',\n",
       " 'travel_Is_year_end_False_session_Night',\n",
       " 'travel_Is_year_end_False_session_Morning',\n",
       " 'travel_Is_year_end_False_session_Evening',\n",
       " 'travel_Is_year_end_False_travel_from_Other',\n",
       " 'travel_Is_year_end_False_travel_from_most_pop',\n",
       " 'travel_Is_year_start_False_session_Night',\n",
       " 'travel_Is_year_start_False_session_Morning',\n",
       " 'travel_Is_year_start_False_session_Evening',\n",
       " 'travel_Is_year_start_False_travel_from_Other',\n",
       " 'travel_Is_year_start_False_travel_from_most_pop',\n",
       " 'session_Night_travel_from_Other',\n",
       " 'session_Night_travel_from_most_pop',\n",
       " 'session_Morning_travel_from_Other',\n",
       " 'session_Morning_travel_from_most_pop',\n",
       " 'session_Evening_travel_from_Other']"
      ]
     },
     "execution_count": 49,
     "metadata": {},
     "output_type": "execute_result"
    }
   ],
   "source": [
    "colnames_selected"
   ]
  },
  {
   "cell_type": "code",
   "execution_count": 50,
   "metadata": {},
   "outputs": [],
   "source": [
    "from sklearn.ensemble import GradientBoostingRegressor\n",
    "from sklearn.ensemble import ExtraTreesRegressor"
   ]
  },
  {
   "cell_type": "code",
   "execution_count": 51,
   "metadata": {},
   "outputs": [],
   "source": [
    "max_depth = 3\n",
    "min_child_weight = 10\n",
    "subsample = 0.5\n",
    "colsample_bytree = 0.6\n",
    "objective = 'reg:linear'\n",
    "num_estimators = 1000\n",
    "learning_rate = 0.3\n",
    "modX = xgb.XGBRegressor(max_depth=max_depth,\n",
    "                min_child_weight=min_child_weight,\n",
    "                subsample=subsample,\n",
    "                colsample_bytree=colsample_bytree,\n",
    "                objective=objective,\n",
    "                n_estimators=num_estimators,\n",
    "                learning_rate=learning_rate)"
   ]
  },
  {
   "cell_type": "code",
   "execution_count": 52,
   "metadata": {},
   "outputs": [
    {
     "data": {
      "text/plain": [
       "XGBRegressor(base_score=0.5, booster='gbtree', colsample_bylevel=1,\n",
       "       colsample_bytree=0.6, gamma=0, learning_rate=0.3, max_delta_step=0,\n",
       "       max_depth=3, min_child_weight=10, missing=None, n_estimators=1000,\n",
       "       n_jobs=1, nthread=None, objective='reg:linear', random_state=0,\n",
       "       reg_alpha=0, reg_lambda=1, scale_pos_weight=1, seed=None,\n",
       "       silent=True, subsample=0.5)"
      ]
     },
     "execution_count": 52,
     "metadata": {},
     "output_type": "execute_result"
    }
   ],
   "source": [
    "modX.fit(x1_train,y_train)"
   ]
  },
  {
   "cell_type": "code",
   "execution_count": 56,
   "metadata": {},
   "outputs": [
    {
     "ename": "AttributeError",
     "evalue": "'XGBRegressor' object has no attribute 'feature_importance_'",
     "output_type": "error",
     "traceback": [
      "\u001b[0;31m---------------------------------------------------------------------------\u001b[0m",
      "\u001b[0;31mAttributeError\u001b[0m                            Traceback (most recent call last)",
      "\u001b[0;32m<ipython-input-56-cd77848e3da7>\u001b[0m in \u001b[0;36m<module>\u001b[0;34m\u001b[0m\n\u001b[0;32m----> 1\u001b[0;31m \u001b[0mmodX\u001b[0m\u001b[0;34m.\u001b[0m\u001b[0mfeature_importance_\u001b[0m\u001b[0;34m\u001b[0m\u001b[0m\n\u001b[0m",
      "\u001b[0;31mAttributeError\u001b[0m: 'XGBRegressor' object has no attribute 'feature_importance_'"
     ]
    }
   ],
   "source": [
    "modX.feature_importance_"
   ]
  },
  {
   "cell_type": "code",
   "execution_count": 53,
   "metadata": {},
   "outputs": [],
   "source": [
    "preds_XGBR = modX.predict(x1_test)"
   ]
  },
  {
   "cell_type": "code",
   "execution_count": 55,
   "metadata": {},
   "outputs": [
    {
     "name": "stdout",
     "output_type": "stream",
     "text": [
      "5.7590391404787695\n"
     ]
    }
   ],
   "source": [
    "print (mean_absolute_error(preds_XGBR,y_test))"
   ]
  },
  {
   "cell_type": "code",
   "execution_count": null,
   "metadata": {},
   "outputs": [],
   "source": [
    "modG = GradientBoostingRegressor(loss = 'lad',learning_rate=0.1,n_estimators = 100,criterion = \"mae\")"
   ]
  },
  {
   "cell_type": "code",
   "execution_count": 201,
   "metadata": {},
   "outputs": [
    {
     "data": {
      "text/plain": [
       "GradientBoostingRegressor(alpha=0.9, criterion='mae', init=None,\n",
       "             learning_rate=0.1, loss='lad', max_depth=3, max_features=None,\n",
       "             max_leaf_nodes=None, min_impurity_decrease=0.0,\n",
       "             min_impurity_split=None, min_samples_leaf=1,\n",
       "             min_samples_split=2, min_weight_fraction_leaf=0.0,\n",
       "             n_estimators=100, n_iter_no_change=None, presort='auto',\n",
       "             random_state=None, subsample=1.0, tol=0.0001,\n",
       "             validation_fraction=0.1, verbose=0, warm_start=False)"
      ]
     },
     "execution_count": 201,
     "metadata": {},
     "output_type": "execute_result"
    }
   ],
   "source": [
    "modG.fit(x1_train,y_train)"
   ]
  },
  {
   "cell_type": "code",
   "execution_count": 202,
   "metadata": {},
   "outputs": [],
   "source": [
    "i_sample_pred = modG.predict(x1_train)"
   ]
  },
  {
   "cell_type": "code",
   "execution_count": 203,
   "metadata": {},
   "outputs": [
    {
     "name": "stdout",
     "output_type": "stream",
     "text": [
      "4.767812938227325\n"
     ]
    }
   ],
   "source": [
    "print (mean_absolute_error(i_sample_pred,y_train))"
   ]
  },
  {
   "cell_type": "code",
   "execution_count": 204,
   "metadata": {},
   "outputs": [],
   "source": [
    "preds_GBR = modG.predict(x1_test)"
   ]
  },
  {
   "cell_type": "code",
   "execution_count": 205,
   "metadata": {},
   "outputs": [
    {
     "name": "stdout",
     "output_type": "stream",
     "text": [
      "5.1771362923049535\n"
     ]
    }
   ],
   "source": [
    "print (mean_absolute_error(preds_GBR,y_test))"
   ]
  },
  {
   "cell_type": "code",
   "execution_count": 223,
   "metadata": {},
   "outputs": [],
   "source": [
    "modE = ExtraTreesRegressor (n_estimators = 100, criterion = \"mae\")"
   ]
  },
  {
   "cell_type": "code",
   "execution_count": 224,
   "metadata": {},
   "outputs": [
    {
     "data": {
      "text/plain": [
       "ExtraTreesRegressor(bootstrap=False, criterion='mae', max_depth=None,\n",
       "          max_features='auto', max_leaf_nodes=None,\n",
       "          min_impurity_decrease=0.0, min_impurity_split=None,\n",
       "          min_samples_leaf=1, min_samples_split=2,\n",
       "          min_weight_fraction_leaf=0.0, n_estimators=100, n_jobs=None,\n",
       "          oob_score=False, random_state=None, verbose=0, warm_start=False)"
      ]
     },
     "execution_count": 224,
     "metadata": {},
     "output_type": "execute_result"
    }
   ],
   "source": [
    "modE.fit(x1_train,y_train)"
   ]
  },
  {
   "cell_type": "code",
   "execution_count": 226,
   "metadata": {},
   "outputs": [],
   "source": [
    "pred_ExtR = modE.predict(x1_test)"
   ]
  },
  {
   "cell_type": "code",
   "execution_count": 227,
   "metadata": {},
   "outputs": [
    {
     "name": "stdout",
     "output_type": "stream",
     "text": [
      "5.326733333333333\n"
     ]
    }
   ],
   "source": [
    "print (mean_absolute_error(pred_ExtR,y_test))"
   ]
  },
  {
   "cell_type": "code",
   "execution_count": 102,
   "metadata": {},
   "outputs": [],
   "source": [
    "df = pd.read_csv('/home/stush/Downloads/test_questions.csv', low_memory=False)"
   ]
  },
  {
   "cell_type": "code",
   "execution_count": 103,
   "metadata": {},
   "outputs": [
    {
     "data": {
      "text/html": [
       "<div>\n",
       "<style scoped>\n",
       "    .dataframe tbody tr th:only-of-type {\n",
       "        vertical-align: middle;\n",
       "    }\n",
       "\n",
       "    .dataframe tbody tr th {\n",
       "        vertical-align: top;\n",
       "    }\n",
       "\n",
       "    .dataframe thead th {\n",
       "        text-align: right;\n",
       "    }\n",
       "</style>\n",
       "<table border=\"1\" class=\"dataframe\">\n",
       "  <thead>\n",
       "    <tr style=\"text-align: right;\">\n",
       "      <th></th>\n",
       "      <th>ride_id</th>\n",
       "      <th>travel_date</th>\n",
       "      <th>travel_time</th>\n",
       "      <th>travel_from</th>\n",
       "      <th>travel_to</th>\n",
       "      <th>car_type</th>\n",
       "      <th>max_capacity</th>\n",
       "    </tr>\n",
       "  </thead>\n",
       "  <tbody>\n",
       "    <tr>\n",
       "      <th>0</th>\n",
       "      <td>247</td>\n",
       "      <td>2018-05-07</td>\n",
       "      <td>07:06</td>\n",
       "      <td>Kisii</td>\n",
       "      <td>Nairobi</td>\n",
       "      <td>Bus</td>\n",
       "      <td>49</td>\n",
       "    </tr>\n",
       "    <tr>\n",
       "      <th>1</th>\n",
       "      <td>256</td>\n",
       "      <td>2018-05-06</td>\n",
       "      <td>11:08</td>\n",
       "      <td>Kisii</td>\n",
       "      <td>Nairobi</td>\n",
       "      <td>shuttle</td>\n",
       "      <td>11</td>\n",
       "    </tr>\n",
       "    <tr>\n",
       "      <th>2</th>\n",
       "      <td>275</td>\n",
       "      <td>2018-05-04</td>\n",
       "      <td>05:00</td>\n",
       "      <td>Kisii</td>\n",
       "      <td>Nairobi</td>\n",
       "      <td>shuttle</td>\n",
       "      <td>11</td>\n",
       "    </tr>\n",
       "    <tr>\n",
       "      <th>3</th>\n",
       "      <td>285</td>\n",
       "      <td>2018-05-04</td>\n",
       "      <td>09:10</td>\n",
       "      <td>Kisii</td>\n",
       "      <td>Nairobi</td>\n",
       "      <td>shuttle</td>\n",
       "      <td>11</td>\n",
       "    </tr>\n",
       "    <tr>\n",
       "      <th>4</th>\n",
       "      <td>286</td>\n",
       "      <td>2018-05-04</td>\n",
       "      <td>09:20</td>\n",
       "      <td>Kisii</td>\n",
       "      <td>Nairobi</td>\n",
       "      <td>shuttle</td>\n",
       "      <td>11</td>\n",
       "    </tr>\n",
       "  </tbody>\n",
       "</table>\n",
       "</div>"
      ],
      "text/plain": [
       "   ride_id travel_date travel_time travel_from travel_to car_type  \\\n",
       "0      247  2018-05-07       07:06       Kisii   Nairobi      Bus   \n",
       "1      256  2018-05-06       11:08       Kisii   Nairobi  shuttle   \n",
       "2      275  2018-05-04       05:00       Kisii   Nairobi  shuttle   \n",
       "3      285  2018-05-04       09:10       Kisii   Nairobi  shuttle   \n",
       "4      286  2018-05-04       09:20       Kisii   Nairobi  shuttle   \n",
       "\n",
       "   max_capacity  \n",
       "0            49  \n",
       "1            11  \n",
       "2            11  \n",
       "3            11  \n",
       "4            11  "
      ]
     },
     "execution_count": 103,
     "metadata": {},
     "output_type": "execute_result"
    }
   ],
   "source": [
    "df.head()"
   ]
  },
  {
   "cell_type": "code",
   "execution_count": 104,
   "metadata": {},
   "outputs": [],
   "source": [
    "add_datepart(df,'travel_date',drop = True)"
   ]
  },
  {
   "cell_type": "code",
   "execution_count": 105,
   "metadata": {},
   "outputs": [
    {
     "data": {
      "text/html": [
       "<div>\n",
       "<style scoped>\n",
       "    .dataframe tbody tr th:only-of-type {\n",
       "        vertical-align: middle;\n",
       "    }\n",
       "\n",
       "    .dataframe tbody tr th {\n",
       "        vertical-align: top;\n",
       "    }\n",
       "\n",
       "    .dataframe thead th {\n",
       "        text-align: right;\n",
       "    }\n",
       "</style>\n",
       "<table border=\"1\" class=\"dataframe\">\n",
       "  <thead>\n",
       "    <tr style=\"text-align: right;\">\n",
       "      <th></th>\n",
       "      <th>ride_id</th>\n",
       "      <th>travel_time</th>\n",
       "      <th>travel_from</th>\n",
       "      <th>travel_to</th>\n",
       "      <th>car_type</th>\n",
       "      <th>max_capacity</th>\n",
       "      <th>travel_Year</th>\n",
       "      <th>travel_Month</th>\n",
       "      <th>travel_Week</th>\n",
       "      <th>travel_Day</th>\n",
       "      <th>travel_Dayofweek</th>\n",
       "      <th>travel_Dayofyear</th>\n",
       "      <th>travel_Is_month_end</th>\n",
       "      <th>travel_Is_month_start</th>\n",
       "      <th>travel_Is_quarter_end</th>\n",
       "      <th>travel_Is_quarter_start</th>\n",
       "      <th>travel_Is_year_end</th>\n",
       "      <th>travel_Is_year_start</th>\n",
       "      <th>travel_Elapsed</th>\n",
       "    </tr>\n",
       "  </thead>\n",
       "  <tbody>\n",
       "    <tr>\n",
       "      <th>0</th>\n",
       "      <td>247</td>\n",
       "      <td>07:06</td>\n",
       "      <td>Kisii</td>\n",
       "      <td>Nairobi</td>\n",
       "      <td>Bus</td>\n",
       "      <td>49</td>\n",
       "      <td>2018</td>\n",
       "      <td>5</td>\n",
       "      <td>19</td>\n",
       "      <td>7</td>\n",
       "      <td>0</td>\n",
       "      <td>127</td>\n",
       "      <td>False</td>\n",
       "      <td>False</td>\n",
       "      <td>False</td>\n",
       "      <td>False</td>\n",
       "      <td>False</td>\n",
       "      <td>False</td>\n",
       "      <td>1525651200</td>\n",
       "    </tr>\n",
       "    <tr>\n",
       "      <th>1</th>\n",
       "      <td>256</td>\n",
       "      <td>11:08</td>\n",
       "      <td>Kisii</td>\n",
       "      <td>Nairobi</td>\n",
       "      <td>shuttle</td>\n",
       "      <td>11</td>\n",
       "      <td>2018</td>\n",
       "      <td>5</td>\n",
       "      <td>18</td>\n",
       "      <td>6</td>\n",
       "      <td>6</td>\n",
       "      <td>126</td>\n",
       "      <td>False</td>\n",
       "      <td>False</td>\n",
       "      <td>False</td>\n",
       "      <td>False</td>\n",
       "      <td>False</td>\n",
       "      <td>False</td>\n",
       "      <td>1525564800</td>\n",
       "    </tr>\n",
       "    <tr>\n",
       "      <th>2</th>\n",
       "      <td>275</td>\n",
       "      <td>05:00</td>\n",
       "      <td>Kisii</td>\n",
       "      <td>Nairobi</td>\n",
       "      <td>shuttle</td>\n",
       "      <td>11</td>\n",
       "      <td>2018</td>\n",
       "      <td>5</td>\n",
       "      <td>18</td>\n",
       "      <td>4</td>\n",
       "      <td>4</td>\n",
       "      <td>124</td>\n",
       "      <td>False</td>\n",
       "      <td>False</td>\n",
       "      <td>False</td>\n",
       "      <td>False</td>\n",
       "      <td>False</td>\n",
       "      <td>False</td>\n",
       "      <td>1525392000</td>\n",
       "    </tr>\n",
       "    <tr>\n",
       "      <th>3</th>\n",
       "      <td>285</td>\n",
       "      <td>09:10</td>\n",
       "      <td>Kisii</td>\n",
       "      <td>Nairobi</td>\n",
       "      <td>shuttle</td>\n",
       "      <td>11</td>\n",
       "      <td>2018</td>\n",
       "      <td>5</td>\n",
       "      <td>18</td>\n",
       "      <td>4</td>\n",
       "      <td>4</td>\n",
       "      <td>124</td>\n",
       "      <td>False</td>\n",
       "      <td>False</td>\n",
       "      <td>False</td>\n",
       "      <td>False</td>\n",
       "      <td>False</td>\n",
       "      <td>False</td>\n",
       "      <td>1525392000</td>\n",
       "    </tr>\n",
       "    <tr>\n",
       "      <th>4</th>\n",
       "      <td>286</td>\n",
       "      <td>09:20</td>\n",
       "      <td>Kisii</td>\n",
       "      <td>Nairobi</td>\n",
       "      <td>shuttle</td>\n",
       "      <td>11</td>\n",
       "      <td>2018</td>\n",
       "      <td>5</td>\n",
       "      <td>18</td>\n",
       "      <td>4</td>\n",
       "      <td>4</td>\n",
       "      <td>124</td>\n",
       "      <td>False</td>\n",
       "      <td>False</td>\n",
       "      <td>False</td>\n",
       "      <td>False</td>\n",
       "      <td>False</td>\n",
       "      <td>False</td>\n",
       "      <td>1525392000</td>\n",
       "    </tr>\n",
       "  </tbody>\n",
       "</table>\n",
       "</div>"
      ],
      "text/plain": [
       "   ride_id travel_time travel_from travel_to car_type  max_capacity  \\\n",
       "0      247       07:06       Kisii   Nairobi      Bus            49   \n",
       "1      256       11:08       Kisii   Nairobi  shuttle            11   \n",
       "2      275       05:00       Kisii   Nairobi  shuttle            11   \n",
       "3      285       09:10       Kisii   Nairobi  shuttle            11   \n",
       "4      286       09:20       Kisii   Nairobi  shuttle            11   \n",
       "\n",
       "   travel_Year  travel_Month  travel_Week  travel_Day  travel_Dayofweek  \\\n",
       "0         2018             5           19           7                 0   \n",
       "1         2018             5           18           6                 6   \n",
       "2         2018             5           18           4                 4   \n",
       "3         2018             5           18           4                 4   \n",
       "4         2018             5           18           4                 4   \n",
       "\n",
       "   travel_Dayofyear  travel_Is_month_end  travel_Is_month_start  \\\n",
       "0               127                False                  False   \n",
       "1               126                False                  False   \n",
       "2               124                False                  False   \n",
       "3               124                False                  False   \n",
       "4               124                False                  False   \n",
       "\n",
       "   travel_Is_quarter_end  travel_Is_quarter_start  travel_Is_year_end  \\\n",
       "0                  False                    False               False   \n",
       "1                  False                    False               False   \n",
       "2                  False                    False               False   \n",
       "3                  False                    False               False   \n",
       "4                  False                    False               False   \n",
       "\n",
       "   travel_Is_year_start  travel_Elapsed  \n",
       "0                 False      1525651200  \n",
       "1                 False      1525564800  \n",
       "2                 False      1525392000  \n",
       "3                 False      1525392000  \n",
       "4                 False      1525392000  "
      ]
     },
     "execution_count": 105,
     "metadata": {},
     "output_type": "execute_result"
    }
   ],
   "source": [
    "df.head()"
   ]
  },
  {
   "cell_type": "code",
   "execution_count": 106,
   "metadata": {},
   "outputs": [
    {
     "data": {
      "text/plain": [
       "Kisii        545\n",
       "Rongo        115\n",
       "Kijauri       79\n",
       "Homa Bay      53\n",
       "Awendo        44\n",
       "Rodi          43\n",
       "Migori        41\n",
       "Nyachenge     34\n",
       "Kehancha      32\n",
       "Ndhiwa        29\n",
       "Sirare        28\n",
       "Mbita         25\n",
       "Keroka        21\n",
       "Oyugis        12\n",
       "Sori          10\n",
       "Name: travel_from, dtype: int64"
      ]
     },
     "execution_count": 106,
     "metadata": {},
     "output_type": "execute_result"
    }
   ],
   "source": [
    "df['travel_from'].value_counts()"
   ]
  },
  {
   "cell_type": "code",
   "execution_count": 107,
   "metadata": {},
   "outputs": [
    {
     "data": {
      "text/plain": [
       "(1111, 19)"
      ]
     },
     "execution_count": 107,
     "metadata": {},
     "output_type": "execute_result"
    }
   ],
   "source": [
    "df.shape"
   ]
  },
  {
   "cell_type": "code",
   "execution_count": 108,
   "metadata": {},
   "outputs": [],
   "source": [
    "df['travel_time'] = pd.to_datetime(df['travel_time'],infer_datetime_format = True)"
   ]
  },
  {
   "cell_type": "code",
   "execution_count": 109,
   "metadata": {},
   "outputs": [],
   "source": [
    "df_test_set = df.assign(session=pd.cut(df.travel_time.dt.hour,[0,6,12,18,24],labels=['Night','Morning','Afternoon','Evening']))"
   ]
  },
  {
   "cell_type": "code",
   "execution_count": 110,
   "metadata": {},
   "outputs": [
    {
     "data": {
      "text/html": [
       "<div>\n",
       "<style scoped>\n",
       "    .dataframe tbody tr th:only-of-type {\n",
       "        vertical-align: middle;\n",
       "    }\n",
       "\n",
       "    .dataframe tbody tr th {\n",
       "        vertical-align: top;\n",
       "    }\n",
       "\n",
       "    .dataframe thead th {\n",
       "        text-align: right;\n",
       "    }\n",
       "</style>\n",
       "<table border=\"1\" class=\"dataframe\">\n",
       "  <thead>\n",
       "    <tr style=\"text-align: right;\">\n",
       "      <th></th>\n",
       "      <th>ride_id</th>\n",
       "      <th>travel_time</th>\n",
       "      <th>travel_from</th>\n",
       "      <th>travel_to</th>\n",
       "      <th>car_type</th>\n",
       "      <th>max_capacity</th>\n",
       "      <th>travel_Year</th>\n",
       "      <th>travel_Month</th>\n",
       "      <th>travel_Week</th>\n",
       "      <th>travel_Day</th>\n",
       "      <th>travel_Dayofweek</th>\n",
       "      <th>travel_Dayofyear</th>\n",
       "      <th>travel_Is_month_end</th>\n",
       "      <th>travel_Is_month_start</th>\n",
       "      <th>travel_Is_quarter_end</th>\n",
       "      <th>travel_Is_quarter_start</th>\n",
       "      <th>travel_Is_year_end</th>\n",
       "      <th>travel_Is_year_start</th>\n",
       "      <th>travel_Elapsed</th>\n",
       "      <th>session</th>\n",
       "    </tr>\n",
       "  </thead>\n",
       "  <tbody>\n",
       "    <tr>\n",
       "      <th>0</th>\n",
       "      <td>247</td>\n",
       "      <td>2018-12-02 07:06:00</td>\n",
       "      <td>Kisii</td>\n",
       "      <td>Nairobi</td>\n",
       "      <td>Bus</td>\n",
       "      <td>49</td>\n",
       "      <td>2018</td>\n",
       "      <td>5</td>\n",
       "      <td>19</td>\n",
       "      <td>7</td>\n",
       "      <td>0</td>\n",
       "      <td>127</td>\n",
       "      <td>False</td>\n",
       "      <td>False</td>\n",
       "      <td>False</td>\n",
       "      <td>False</td>\n",
       "      <td>False</td>\n",
       "      <td>False</td>\n",
       "      <td>1525651200</td>\n",
       "      <td>Morning</td>\n",
       "    </tr>\n",
       "    <tr>\n",
       "      <th>1</th>\n",
       "      <td>256</td>\n",
       "      <td>2018-12-02 11:08:00</td>\n",
       "      <td>Kisii</td>\n",
       "      <td>Nairobi</td>\n",
       "      <td>shuttle</td>\n",
       "      <td>11</td>\n",
       "      <td>2018</td>\n",
       "      <td>5</td>\n",
       "      <td>18</td>\n",
       "      <td>6</td>\n",
       "      <td>6</td>\n",
       "      <td>126</td>\n",
       "      <td>False</td>\n",
       "      <td>False</td>\n",
       "      <td>False</td>\n",
       "      <td>False</td>\n",
       "      <td>False</td>\n",
       "      <td>False</td>\n",
       "      <td>1525564800</td>\n",
       "      <td>Morning</td>\n",
       "    </tr>\n",
       "    <tr>\n",
       "      <th>2</th>\n",
       "      <td>275</td>\n",
       "      <td>2018-12-02 05:00:00</td>\n",
       "      <td>Kisii</td>\n",
       "      <td>Nairobi</td>\n",
       "      <td>shuttle</td>\n",
       "      <td>11</td>\n",
       "      <td>2018</td>\n",
       "      <td>5</td>\n",
       "      <td>18</td>\n",
       "      <td>4</td>\n",
       "      <td>4</td>\n",
       "      <td>124</td>\n",
       "      <td>False</td>\n",
       "      <td>False</td>\n",
       "      <td>False</td>\n",
       "      <td>False</td>\n",
       "      <td>False</td>\n",
       "      <td>False</td>\n",
       "      <td>1525392000</td>\n",
       "      <td>Night</td>\n",
       "    </tr>\n",
       "    <tr>\n",
       "      <th>3</th>\n",
       "      <td>285</td>\n",
       "      <td>2018-12-02 09:10:00</td>\n",
       "      <td>Kisii</td>\n",
       "      <td>Nairobi</td>\n",
       "      <td>shuttle</td>\n",
       "      <td>11</td>\n",
       "      <td>2018</td>\n",
       "      <td>5</td>\n",
       "      <td>18</td>\n",
       "      <td>4</td>\n",
       "      <td>4</td>\n",
       "      <td>124</td>\n",
       "      <td>False</td>\n",
       "      <td>False</td>\n",
       "      <td>False</td>\n",
       "      <td>False</td>\n",
       "      <td>False</td>\n",
       "      <td>False</td>\n",
       "      <td>1525392000</td>\n",
       "      <td>Morning</td>\n",
       "    </tr>\n",
       "    <tr>\n",
       "      <th>4</th>\n",
       "      <td>286</td>\n",
       "      <td>2018-12-02 09:20:00</td>\n",
       "      <td>Kisii</td>\n",
       "      <td>Nairobi</td>\n",
       "      <td>shuttle</td>\n",
       "      <td>11</td>\n",
       "      <td>2018</td>\n",
       "      <td>5</td>\n",
       "      <td>18</td>\n",
       "      <td>4</td>\n",
       "      <td>4</td>\n",
       "      <td>124</td>\n",
       "      <td>False</td>\n",
       "      <td>False</td>\n",
       "      <td>False</td>\n",
       "      <td>False</td>\n",
       "      <td>False</td>\n",
       "      <td>False</td>\n",
       "      <td>1525392000</td>\n",
       "      <td>Morning</td>\n",
       "    </tr>\n",
       "  </tbody>\n",
       "</table>\n",
       "</div>"
      ],
      "text/plain": [
       "   ride_id         travel_time travel_from travel_to car_type  max_capacity  \\\n",
       "0      247 2018-12-02 07:06:00       Kisii   Nairobi      Bus            49   \n",
       "1      256 2018-12-02 11:08:00       Kisii   Nairobi  shuttle            11   \n",
       "2      275 2018-12-02 05:00:00       Kisii   Nairobi  shuttle            11   \n",
       "3      285 2018-12-02 09:10:00       Kisii   Nairobi  shuttle            11   \n",
       "4      286 2018-12-02 09:20:00       Kisii   Nairobi  shuttle            11   \n",
       "\n",
       "   travel_Year  travel_Month  travel_Week  travel_Day  travel_Dayofweek  \\\n",
       "0         2018             5           19           7                 0   \n",
       "1         2018             5           18           6                 6   \n",
       "2         2018             5           18           4                 4   \n",
       "3         2018             5           18           4                 4   \n",
       "4         2018             5           18           4                 4   \n",
       "\n",
       "   travel_Dayofyear  travel_Is_month_end  travel_Is_month_start  \\\n",
       "0               127                False                  False   \n",
       "1               126                False                  False   \n",
       "2               124                False                  False   \n",
       "3               124                False                  False   \n",
       "4               124                False                  False   \n",
       "\n",
       "   travel_Is_quarter_end  travel_Is_quarter_start  travel_Is_year_end  \\\n",
       "0                  False                    False               False   \n",
       "1                  False                    False               False   \n",
       "2                  False                    False               False   \n",
       "3                  False                    False               False   \n",
       "4                  False                    False               False   \n",
       "\n",
       "   travel_Is_year_start  travel_Elapsed  session  \n",
       "0                 False      1525651200  Morning  \n",
       "1                 False      1525564800  Morning  \n",
       "2                 False      1525392000    Night  \n",
       "3                 False      1525392000  Morning  \n",
       "4                 False      1525392000  Morning  "
      ]
     },
     "execution_count": 110,
     "metadata": {},
     "output_type": "execute_result"
    }
   ],
   "source": [
    "df_test_set.head()"
   ]
  },
  {
   "cell_type": "code",
   "execution_count": 111,
   "metadata": {},
   "outputs": [
    {
     "data": {
      "text/plain": [
       "(1111, 20)"
      ]
     },
     "execution_count": 111,
     "metadata": {},
     "output_type": "execute_result"
    }
   ],
   "source": [
    "df_test_set.shape"
   ]
  },
  {
   "cell_type": "code",
   "execution_count": 112,
   "metadata": {},
   "outputs": [],
   "source": [
    "df_test_model = df_test_set.drop(['ride_id','max_capacity','travel_Elapsed','travel_time','travel_to'],1)"
   ]
  },
  {
   "cell_type": "code",
   "execution_count": 113,
   "metadata": {},
   "outputs": [
    {
     "data": {
      "text/plain": [
       "(1111, 15)"
      ]
     },
     "execution_count": 113,
     "metadata": {},
     "output_type": "execute_result"
    }
   ],
   "source": [
    "df_test_model.shape"
   ]
  },
  {
   "cell_type": "code",
   "execution_count": 114,
   "metadata": {},
   "outputs": [],
   "source": [
    "df_test_model['travel_from']= ['most_pop' if x == 'Kisii' else 'Other' for x in df_test_model['travel_from'] ]"
   ]
  },
  {
   "cell_type": "code",
   "execution_count": 115,
   "metadata": {},
   "outputs": [
    {
     "data": {
      "text/plain": [
       "(1111, 15)"
      ]
     },
     "execution_count": 115,
     "metadata": {},
     "output_type": "execute_result"
    }
   ],
   "source": [
    "df_test_model.shape"
   ]
  },
  {
   "cell_type": "code",
   "execution_count": 116,
   "metadata": {},
   "outputs": [],
   "source": [
    "c = ['car_type','travel_Year','travel_Is_month_end','travel_Is_month_start',\n",
    "     'travel_Is_quarter_end','travel_Is_quarter_start','travel_Is_year_end','travel_Is_year_start','session','travel_from']"
   ]
  },
  {
   "cell_type": "code",
   "execution_count": 117,
   "metadata": {},
   "outputs": [],
   "source": [
    "df_final_test = pd.get_dummies(data = df_test_model,columns = c)"
   ]
  },
  {
   "cell_type": "code",
   "execution_count": 118,
   "metadata": {},
   "outputs": [
    {
     "data": {
      "text/html": [
       "<div>\n",
       "<style scoped>\n",
       "    .dataframe tbody tr th:only-of-type {\n",
       "        vertical-align: middle;\n",
       "    }\n",
       "\n",
       "    .dataframe tbody tr th {\n",
       "        vertical-align: top;\n",
       "    }\n",
       "\n",
       "    .dataframe thead th {\n",
       "        text-align: right;\n",
       "    }\n",
       "</style>\n",
       "<table border=\"1\" class=\"dataframe\">\n",
       "  <thead>\n",
       "    <tr style=\"text-align: right;\">\n",
       "      <th></th>\n",
       "      <th>travel_Month</th>\n",
       "      <th>travel_Week</th>\n",
       "      <th>travel_Day</th>\n",
       "      <th>travel_Dayofweek</th>\n",
       "      <th>travel_Dayofyear</th>\n",
       "      <th>car_type_Bus</th>\n",
       "      <th>car_type_shuttle</th>\n",
       "      <th>travel_Year_2018</th>\n",
       "      <th>travel_Is_month_end_False</th>\n",
       "      <th>travel_Is_month_end_True</th>\n",
       "      <th>...</th>\n",
       "      <th>travel_Is_quarter_end_False</th>\n",
       "      <th>travel_Is_quarter_start_False</th>\n",
       "      <th>travel_Is_year_end_False</th>\n",
       "      <th>travel_Is_year_start_False</th>\n",
       "      <th>session_Night</th>\n",
       "      <th>session_Morning</th>\n",
       "      <th>session_Afternoon</th>\n",
       "      <th>session_Evening</th>\n",
       "      <th>travel_from_Other</th>\n",
       "      <th>travel_from_most_pop</th>\n",
       "    </tr>\n",
       "  </thead>\n",
       "  <tbody>\n",
       "    <tr>\n",
       "      <th>0</th>\n",
       "      <td>5</td>\n",
       "      <td>19</td>\n",
       "      <td>7</td>\n",
       "      <td>0</td>\n",
       "      <td>127</td>\n",
       "      <td>1</td>\n",
       "      <td>0</td>\n",
       "      <td>1</td>\n",
       "      <td>1</td>\n",
       "      <td>0</td>\n",
       "      <td>...</td>\n",
       "      <td>1</td>\n",
       "      <td>1</td>\n",
       "      <td>1</td>\n",
       "      <td>1</td>\n",
       "      <td>0</td>\n",
       "      <td>1</td>\n",
       "      <td>0</td>\n",
       "      <td>0</td>\n",
       "      <td>0</td>\n",
       "      <td>1</td>\n",
       "    </tr>\n",
       "    <tr>\n",
       "      <th>1</th>\n",
       "      <td>5</td>\n",
       "      <td>18</td>\n",
       "      <td>6</td>\n",
       "      <td>6</td>\n",
       "      <td>126</td>\n",
       "      <td>0</td>\n",
       "      <td>1</td>\n",
       "      <td>1</td>\n",
       "      <td>1</td>\n",
       "      <td>0</td>\n",
       "      <td>...</td>\n",
       "      <td>1</td>\n",
       "      <td>1</td>\n",
       "      <td>1</td>\n",
       "      <td>1</td>\n",
       "      <td>0</td>\n",
       "      <td>1</td>\n",
       "      <td>0</td>\n",
       "      <td>0</td>\n",
       "      <td>0</td>\n",
       "      <td>1</td>\n",
       "    </tr>\n",
       "    <tr>\n",
       "      <th>2</th>\n",
       "      <td>5</td>\n",
       "      <td>18</td>\n",
       "      <td>4</td>\n",
       "      <td>4</td>\n",
       "      <td>124</td>\n",
       "      <td>0</td>\n",
       "      <td>1</td>\n",
       "      <td>1</td>\n",
       "      <td>1</td>\n",
       "      <td>0</td>\n",
       "      <td>...</td>\n",
       "      <td>1</td>\n",
       "      <td>1</td>\n",
       "      <td>1</td>\n",
       "      <td>1</td>\n",
       "      <td>1</td>\n",
       "      <td>0</td>\n",
       "      <td>0</td>\n",
       "      <td>0</td>\n",
       "      <td>0</td>\n",
       "      <td>1</td>\n",
       "    </tr>\n",
       "    <tr>\n",
       "      <th>3</th>\n",
       "      <td>5</td>\n",
       "      <td>18</td>\n",
       "      <td>4</td>\n",
       "      <td>4</td>\n",
       "      <td>124</td>\n",
       "      <td>0</td>\n",
       "      <td>1</td>\n",
       "      <td>1</td>\n",
       "      <td>1</td>\n",
       "      <td>0</td>\n",
       "      <td>...</td>\n",
       "      <td>1</td>\n",
       "      <td>1</td>\n",
       "      <td>1</td>\n",
       "      <td>1</td>\n",
       "      <td>0</td>\n",
       "      <td>1</td>\n",
       "      <td>0</td>\n",
       "      <td>0</td>\n",
       "      <td>0</td>\n",
       "      <td>1</td>\n",
       "    </tr>\n",
       "    <tr>\n",
       "      <th>4</th>\n",
       "      <td>5</td>\n",
       "      <td>18</td>\n",
       "      <td>4</td>\n",
       "      <td>4</td>\n",
       "      <td>124</td>\n",
       "      <td>0</td>\n",
       "      <td>1</td>\n",
       "      <td>1</td>\n",
       "      <td>1</td>\n",
       "      <td>0</td>\n",
       "      <td>...</td>\n",
       "      <td>1</td>\n",
       "      <td>1</td>\n",
       "      <td>1</td>\n",
       "      <td>1</td>\n",
       "      <td>0</td>\n",
       "      <td>1</td>\n",
       "      <td>0</td>\n",
       "      <td>0</td>\n",
       "      <td>0</td>\n",
       "      <td>1</td>\n",
       "    </tr>\n",
       "  </tbody>\n",
       "</table>\n",
       "<p>5 rows × 22 columns</p>\n",
       "</div>"
      ],
      "text/plain": [
       "   travel_Month  travel_Week  travel_Day  travel_Dayofweek  travel_Dayofyear  \\\n",
       "0             5           19           7                 0               127   \n",
       "1             5           18           6                 6               126   \n",
       "2             5           18           4                 4               124   \n",
       "3             5           18           4                 4               124   \n",
       "4             5           18           4                 4               124   \n",
       "\n",
       "   car_type_Bus  car_type_shuttle  travel_Year_2018  \\\n",
       "0             1                 0                 1   \n",
       "1             0                 1                 1   \n",
       "2             0                 1                 1   \n",
       "3             0                 1                 1   \n",
       "4             0                 1                 1   \n",
       "\n",
       "   travel_Is_month_end_False  travel_Is_month_end_True          ...           \\\n",
       "0                          1                         0          ...            \n",
       "1                          1                         0          ...            \n",
       "2                          1                         0          ...            \n",
       "3                          1                         0          ...            \n",
       "4                          1                         0          ...            \n",
       "\n",
       "   travel_Is_quarter_end_False  travel_Is_quarter_start_False  \\\n",
       "0                            1                              1   \n",
       "1                            1                              1   \n",
       "2                            1                              1   \n",
       "3                            1                              1   \n",
       "4                            1                              1   \n",
       "\n",
       "   travel_Is_year_end_False  travel_Is_year_start_False  session_Night  \\\n",
       "0                         1                           1              0   \n",
       "1                         1                           1              0   \n",
       "2                         1                           1              1   \n",
       "3                         1                           1              0   \n",
       "4                         1                           1              0   \n",
       "\n",
       "   session_Morning  session_Afternoon  session_Evening  travel_from_Other  \\\n",
       "0                1                  0                0                  0   \n",
       "1                1                  0                0                  0   \n",
       "2                0                  0                0                  0   \n",
       "3                1                  0                0                  0   \n",
       "4                1                  0                0                  0   \n",
       "\n",
       "   travel_from_most_pop  \n",
       "0                     1  \n",
       "1                     1  \n",
       "2                     1  \n",
       "3                     1  \n",
       "4                     1  \n",
       "\n",
       "[5 rows x 22 columns]"
      ]
     },
     "execution_count": 118,
     "metadata": {},
     "output_type": "execute_result"
    }
   ],
   "source": [
    "df_final_test.head()"
   ]
  },
  {
   "cell_type": "code",
   "execution_count": 119,
   "metadata": {},
   "outputs": [
    {
     "data": {
      "text/plain": [
       "Index(['travel_Month', 'travel_Week', 'travel_Day', 'travel_Dayofweek',\n",
       "       'travel_Dayofyear', 'car_type_Bus', 'car_type_shuttle',\n",
       "       'travel_Year_2018', 'travel_Is_month_end_False',\n",
       "       'travel_Is_month_end_True', 'travel_Is_month_start_False',\n",
       "       'travel_Is_month_start_True', 'travel_Is_quarter_end_False',\n",
       "       'travel_Is_quarter_start_False', 'travel_Is_year_end_False',\n",
       "       'travel_Is_year_start_False', 'session_Night', 'session_Morning',\n",
       "       'session_Afternoon', 'session_Evening', 'travel_from_Other',\n",
       "       'travel_from_most_pop'],\n",
       "      dtype='object')"
      ]
     },
     "execution_count": 119,
     "metadata": {},
     "output_type": "execute_result"
    }
   ],
   "source": [
    "df_final_test.columns"
   ]
  },
  {
   "cell_type": "code",
   "execution_count": 120,
   "metadata": {},
   "outputs": [
    {
     "data": {
      "text/plain": [
       "Index(['travel_Month', 'travel_Week', 'travel_Day', 'travel_Dayofweek',\n",
       "       'travel_Dayofyear', 'car_type_Bus', 'car_type_shuttle',\n",
       "       'travel_Year_2018', 'travel_Is_month_end_False',\n",
       "       'travel_Is_month_end_True', 'travel_Is_month_start_False',\n",
       "       'travel_Is_month_start_True', 'travel_Is_quarter_end_False',\n",
       "       'travel_Is_quarter_start_False', 'travel_Is_year_end_False',\n",
       "       'travel_Is_year_start_False', 'session_Night', 'session_Morning',\n",
       "       'session_Afternoon', 'session_Evening', 'travel_from_most_pop'],\n",
       "      dtype='object')"
      ]
     },
     "execution_count": 120,
     "metadata": {},
     "output_type": "execute_result"
    }
   ],
   "source": [
    "X.columns"
   ]
  },
  {
   "cell_type": "code",
   "execution_count": 195,
   "metadata": {},
   "outputs": [
    {
     "name": "stdout",
     "output_type": "stream",
     "text": [
      "(6249, 22)\n",
      "(1111, 22)\n"
     ]
    }
   ],
   "source": [
    "print(X.shape)\n",
    "print(df_final_test.shape)"
   ]
  },
  {
   "cell_type": "code",
   "execution_count": 194,
   "metadata": {},
   "outputs": [
    {
     "data": {
      "text/plain": [
       "Index([], dtype='object')"
      ]
     },
     "execution_count": 194,
     "metadata": {},
     "output_type": "execute_result"
    }
   ],
   "source": [
    "X.columns.difference(df_final_test.columns)"
   ]
  },
  {
   "cell_type": "code",
   "execution_count": 149,
   "metadata": {},
   "outputs": [],
   "source": [
    "df_x_test = add_interactions(df_final_test)"
   ]
  },
  {
   "cell_type": "code",
   "execution_count": 206,
   "metadata": {},
   "outputs": [
    {
     "data": {
      "text/plain": [
       "(1111, 221)"
      ]
     },
     "execution_count": 206,
     "metadata": {},
     "output_type": "execute_result"
    }
   ],
   "source": [
    "df_x_test.shape"
   ]
  },
  {
   "cell_type": "code",
   "execution_count": 161,
   "metadata": {},
   "outputs": [
    {
     "data": {
      "text/plain": [
       "Index(['travel_Dayofweek_travel_Is_month_end_True'], dtype='object')"
      ]
     },
     "execution_count": 161,
     "metadata": {},
     "output_type": "execute_result"
    }
   ],
   "source": [
    "x1_train.columns.difference(df_x_test.columns)"
   ]
  },
  {
   "cell_type": "code",
   "execution_count": 163,
   "metadata": {},
   "outputs": [],
   "source": [
    "X_test_selected = df_x_test[colnames_selected]"
   ]
  },
  {
   "cell_type": "code",
   "execution_count": 164,
   "metadata": {},
   "outputs": [
    {
     "data": {
      "text/plain": [
       "(1111, 100)"
      ]
     },
     "execution_count": 164,
     "metadata": {},
     "output_type": "execute_result"
    }
   ],
   "source": [
    "X_test_selected.shape"
   ]
  },
  {
   "cell_type": "code",
   "execution_count": 166,
   "metadata": {},
   "outputs": [],
   "source": [
    "test_prediction_Forest = model.predict(df_x_test)"
   ]
  },
  {
   "cell_type": "code",
   "execution_count": 207,
   "metadata": {},
   "outputs": [],
   "source": [
    "test_prediction_GBR = modG.predict(df_x_test)"
   ]
  },
  {
   "cell_type": "code",
   "execution_count": 208,
   "metadata": {},
   "outputs": [],
   "source": [
    "predictionF = test_prediction_Forest.round()"
   ]
  },
  {
   "cell_type": "code",
   "execution_count": 172,
   "metadata": {},
   "outputs": [],
   "source": [
    "f = {'ride_id': df[\"ride_id\"], 'number_of_ticket': predictionF}\n",
    "df_predictionF = pd.DataFrame(data=f)\n",
    "df_predictionF = df_predictionF[['ride_id','number_of_ticket']]"
   ]
  },
  {
   "cell_type": "code",
   "execution_count": 173,
   "metadata": {},
   "outputs": [
    {
     "data": {
      "text/html": [
       "<div>\n",
       "<style scoped>\n",
       "    .dataframe tbody tr th:only-of-type {\n",
       "        vertical-align: middle;\n",
       "    }\n",
       "\n",
       "    .dataframe tbody tr th {\n",
       "        vertical-align: top;\n",
       "    }\n",
       "\n",
       "    .dataframe thead th {\n",
       "        text-align: right;\n",
       "    }\n",
       "</style>\n",
       "<table border=\"1\" class=\"dataframe\">\n",
       "  <thead>\n",
       "    <tr style=\"text-align: right;\">\n",
       "      <th></th>\n",
       "      <th>ride_id</th>\n",
       "      <th>number_of_ticket</th>\n",
       "    </tr>\n",
       "  </thead>\n",
       "  <tbody>\n",
       "    <tr>\n",
       "      <th>0</th>\n",
       "      <td>247</td>\n",
       "      <td>3.0</td>\n",
       "    </tr>\n",
       "    <tr>\n",
       "      <th>1</th>\n",
       "      <td>256</td>\n",
       "      <td>7.0</td>\n",
       "    </tr>\n",
       "    <tr>\n",
       "      <th>2</th>\n",
       "      <td>275</td>\n",
       "      <td>4.0</td>\n",
       "    </tr>\n",
       "    <tr>\n",
       "      <th>3</th>\n",
       "      <td>285</td>\n",
       "      <td>7.0</td>\n",
       "    </tr>\n",
       "    <tr>\n",
       "      <th>4</th>\n",
       "      <td>286</td>\n",
       "      <td>7.0</td>\n",
       "    </tr>\n",
       "  </tbody>\n",
       "</table>\n",
       "</div>"
      ],
      "text/plain": [
       "   ride_id  number_of_ticket\n",
       "0      247               3.0\n",
       "1      256               7.0\n",
       "2      275               4.0\n",
       "3      285               7.0\n",
       "4      286               7.0"
      ]
     },
     "execution_count": 173,
     "metadata": {},
     "output_type": "execute_result"
    }
   ],
   "source": [
    "df_predictionF.head()"
   ]
  },
  {
   "cell_type": "code",
   "execution_count": 174,
   "metadata": {},
   "outputs": [],
   "source": [
    "df_predictionF.to_csv('/home/stush/Desktop/RandF.csv', index=False) #save to csv file"
   ]
  },
  {
   "cell_type": "code",
   "execution_count": 217,
   "metadata": {},
   "outputs": [],
   "source": [
    "predictionG = test_prediction_GBR.astype(int)"
   ]
  },
  {
   "cell_type": "code",
   "execution_count": 218,
   "metadata": {},
   "outputs": [],
   "source": [
    "g = {'ride_id': df[\"ride_id\"], 'number_of_ticket': predictionG}\n",
    "df_predictionG = pd.DataFrame(data=g)\n",
    "df_predictionG = df_predictionG[['ride_id','number_of_ticket']]"
   ]
  },
  {
   "cell_type": "code",
   "execution_count": 219,
   "metadata": {},
   "outputs": [
    {
     "data": {
      "text/html": [
       "<div>\n",
       "<style scoped>\n",
       "    .dataframe tbody tr th:only-of-type {\n",
       "        vertical-align: middle;\n",
       "    }\n",
       "\n",
       "    .dataframe tbody tr th {\n",
       "        vertical-align: top;\n",
       "    }\n",
       "\n",
       "    .dataframe thead th {\n",
       "        text-align: right;\n",
       "    }\n",
       "</style>\n",
       "<table border=\"1\" class=\"dataframe\">\n",
       "  <thead>\n",
       "    <tr style=\"text-align: right;\">\n",
       "      <th></th>\n",
       "      <th>ride_id</th>\n",
       "      <th>number_of_ticket</th>\n",
       "    </tr>\n",
       "  </thead>\n",
       "  <tbody>\n",
       "    <tr>\n",
       "      <th>0</th>\n",
       "      <td>247</td>\n",
       "      <td>3</td>\n",
       "    </tr>\n",
       "    <tr>\n",
       "      <th>1</th>\n",
       "      <td>256</td>\n",
       "      <td>9</td>\n",
       "    </tr>\n",
       "    <tr>\n",
       "      <th>2</th>\n",
       "      <td>275</td>\n",
       "      <td>1</td>\n",
       "    </tr>\n",
       "    <tr>\n",
       "      <th>3</th>\n",
       "      <td>285</td>\n",
       "      <td>9</td>\n",
       "    </tr>\n",
       "    <tr>\n",
       "      <th>4</th>\n",
       "      <td>286</td>\n",
       "      <td>9</td>\n",
       "    </tr>\n",
       "  </tbody>\n",
       "</table>\n",
       "</div>"
      ],
      "text/plain": [
       "   ride_id  number_of_ticket\n",
       "0      247                 3\n",
       "1      256                 9\n",
       "2      275                 1\n",
       "3      285                 9\n",
       "4      286                 9"
      ]
     },
     "execution_count": 219,
     "metadata": {},
     "output_type": "execute_result"
    }
   ],
   "source": [
    "df_predictionG.head()"
   ]
  },
  {
   "cell_type": "code",
   "execution_count": 220,
   "metadata": {},
   "outputs": [],
   "source": [
    "df_predictionG.to_csv('/home/stush/Desktop/GBR_all_int.csv', index=False) #save to csv file"
   ]
  }
 ],
 "metadata": {
  "kernelspec": {
   "display_name": "Python 3",
   "language": "python",
   "name": "python3"
  },
  "language_info": {
   "codemirror_mode": {
    "name": "ipython",
    "version": 3
   },
   "file_extension": ".py",
   "mimetype": "text/x-python",
   "name": "python",
   "nbconvert_exporter": "python",
   "pygments_lexer": "ipython3",
   "version": "3.6.6"
  }
 },
 "nbformat": 4,
 "nbformat_minor": 2
}
